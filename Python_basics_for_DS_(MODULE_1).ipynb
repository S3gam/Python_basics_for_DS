{
  "nbformat": 4,
  "nbformat_minor": 0,
  "metadata": {
    "colab": {
      "name": "Python basics for DS (MODULE 1).ipynb",
      "provenance": [],
      "authorship_tag": "ABX9TyPEb55JOw2Y4PutUnU3Gcr9",
      "include_colab_link": true
    },
    "kernelspec": {
      "name": "python3",
      "display_name": "Python 3"
    },
    "language_info": {
      "name": "python"
    }
  },
  "cells": [
    {
      "cell_type": "markdown",
      "metadata": {
        "id": "view-in-github",
        "colab_type": "text"
      },
      "source": [
        "<a href=\"https://colab.research.google.com/github/S3gam/Python_basics_for_DS/blob/master/Python_basics_for_DS_(MODULE_1).ipynb\" target=\"_parent\"><img src=\"https://colab.research.google.com/assets/colab-badge.svg\" alt=\"Open In Colab\"/></a>"
      ]
    },
    {
      "cell_type": "markdown",
      "metadata": {
        "id": "1M5mNPP5WeAj"
      },
      "source": [
        "# Hands-ON LAB: Yout first program (MODULE 1, LAB 1)"
      ]
    },
    {
      "cell_type": "markdown",
      "metadata": {
        "id": "E_rc_i2deXQq"
      },
      "source": [
        "##TYPES OF OBJECTS AND BOOLEANS\n"
      ]
    },
    {
      "cell_type": "code",
      "metadata": {
        "colab": {
          "base_uri": "https://localhost:8080/"
        },
        "id": "ahtYnSffWctc",
        "outputId": "cdee9402-9fd2-4c19-b8d3-7ff522e5f2b9"
      },
      "source": [
        "print ('Hello, Python')\n",
        "\n",
        "import sys #sys is a built-in module that contains many system-specific parameters and functions,\n",
        "# including the Python version in use. Before using it, we must explictly import it.\n",
        "\n",
        "print(sys.version)\n"
      ],
      "execution_count": 1,
      "outputs": [
        {
          "output_type": "stream",
          "name": "stdout",
          "text": [
            "Hello, Python\n",
            "3.7.12 (default, Sep 10 2021, 00:21:48) \n",
            "[GCC 7.5.0]\n"
          ]
        }
      ]
    },
    {
      "cell_type": "code",
      "metadata": {
        "id": "SAqi9WCzWhkx"
      },
      "source": [
        "print(\"This will be printed\") # This will be prinjted since it is welll spelled a\n",
        "frint(\"This will cause an error\") #This will not be printed since the function is wrong, this stops the run\n",
        "print(\"This will NOT be printed\") # Thus, this will not be printed since Python stoped the run in the error"
      ],
      "execution_count": null,
      "outputs": []
    },
    {
      "cell_type": "markdown",
      "metadata": {
        "id": "-Yn8zSxHWv3i"
      },
      "source": [
        "###TYPES OF OBJECTS IN PYTHON\n",
        "\n"
      ]
    },
    {
      "cell_type": "code",
      "metadata": {
        "id": "AoY2L62bXIfK"
      },
      "source": [
        "# String (str) text\n",
        "# Integer (int) whole numbers such as 1, 2, -1, -200 ...\n",
        "# Floar (float) Decimal nombers such as 2.14, 3.8752, 125.659\n",
        "\n",
        "# You can get Python to tell you the type of an expression by using the built-in type() function.\n",
        "# You'll notice that Python refers to integers as int, floats as float, and character strings as str."
      ],
      "execution_count": 5,
      "outputs": []
    },
    {
      "cell_type": "code",
      "metadata": {
        "colab": {
          "base_uri": "https://localhost:8080/"
        },
        "id": "IbCOb9SbXJJh",
        "outputId": "e0c3a6ca-a069-4d87-f984-f80e9f756c55"
      },
      "source": [
        "type(12) #Esto nos debería decir el tipo de objeto dentro del parentesis\n"
      ],
      "execution_count": 7,
      "outputs": [
        {
          "output_type": "execute_result",
          "data": {
            "text/plain": [
              "int"
            ]
          },
          "metadata": {},
          "execution_count": 7
        }
      ]
    },
    {
      "cell_type": "code",
      "metadata": {
        "colab": {
          "base_uri": "https://localhost:8080/"
        },
        "id": "YCG07bU3XReR",
        "outputId": "77319552-716c-4d63-8ea1-77783050b14a"
      },
      "source": [
        "type(2.56) # This will show us that the object is a float"
      ],
      "execution_count": 8,
      "outputs": [
        {
          "output_type": "execute_result",
          "data": {
            "text/plain": [
              "float"
            ]
          },
          "metadata": {},
          "execution_count": 8
        }
      ]
    },
    {
      "cell_type": "code",
      "metadata": {
        "colab": {
          "base_uri": "https://localhost:8080/"
        },
        "id": "NekFv22_XTcJ",
        "outputId": "c0b6c388-6bb3-4862-814b-0fd67df082f1"
      },
      "source": [
        "type(\"Hello World\") #Thi9s will show us that the object is a string"
      ],
      "execution_count": 10,
      "outputs": [
        {
          "output_type": "execute_result",
          "data": {
            "text/plain": [
              "str"
            ]
          },
          "metadata": {},
          "execution_count": 10
        }
      ]
    },
    {
      "cell_type": "code",
      "metadata": {
        "colab": {
          "base_uri": "https://localhost:8080/"
        },
        "id": "1EnkFDQ-XVOg",
        "outputId": "57297376-0d97-4f48-8e3d-051127d9e76b"
      },
      "source": [
        "float(2) #This changes the integer 2 into floating number"
      ],
      "execution_count": 11,
      "outputs": [
        {
          "output_type": "execute_result",
          "data": {
            "text/plain": [
              "2.0"
            ]
          },
          "metadata": {},
          "execution_count": 11
        }
      ]
    },
    {
      "cell_type": "code",
      "metadata": {
        "colab": {
          "base_uri": "https://localhost:8080/"
        },
        "id": "lHfEa8xcXlKI",
        "outputId": "a749ecc5-c86f-4d3f-b492-e5a40f64235c"
      },
      "source": [
        "int(2.3) #This will change the float number into integer, we lose the decimal information"
      ],
      "execution_count": 12,
      "outputs": [
        {
          "output_type": "execute_result",
          "data": {
            "text/plain": [
              "2"
            ]
          },
          "metadata": {},
          "execution_count": 12
        }
      ]
    },
    {
      "cell_type": "code",
      "metadata": {
        "id": "yx2WogsTXnHh"
      },
      "source": [
        ""
      ],
      "execution_count": null,
      "outputs": []
    },
    {
      "cell_type": "markdown",
      "metadata": {
        "id": "cx0QoRswXot6"
      },
      "source": [
        "### BOOLEAN DATA TYPE\n",
        "\n",
        "\n",
        "\n"
      ]
    },
    {
      "cell_type": "code",
      "metadata": {
        "colab": {
          "base_uri": "https://localhost:8080/"
        },
        "id": "NW7vN2xkXvM5",
        "outputId": "b5716cc4-9d6e-436c-c693-4a7c6b32e6f9"
      },
      "source": [
        "# Type of True\n",
        "type(True)"
      ],
      "execution_count": 13,
      "outputs": [
        {
          "output_type": "execute_result",
          "data": {
            "text/plain": [
              "bool"
            ]
          },
          "metadata": {},
          "execution_count": 13
        }
      ]
    },
    {
      "cell_type": "code",
      "metadata": {
        "colab": {
          "base_uri": "https://localhost:8080/"
        },
        "id": "3X-P12OsX6I5",
        "outputId": "53dc92fd-2375-44d3-a2e3-183d14148fb1"
      },
      "source": [
        "# Type of False\n",
        "type(False)"
      ],
      "execution_count": 14,
      "outputs": [
        {
          "output_type": "execute_result",
          "data": {
            "text/plain": [
              "bool"
            ]
          },
          "metadata": {},
          "execution_count": 14
        }
      ]
    },
    {
      "cell_type": "code",
      "metadata": {
        "colab": {
          "base_uri": "https://localhost:8080/"
        },
        "id": "MVfXnAuuX70h",
        "outputId": "b7bcb509-72d8-4321-983b-431acd8c4a14"
      },
      "source": [
        "# Convert True to int\n",
        "int(True) # this will be 1"
      ],
      "execution_count": 15,
      "outputs": [
        {
          "output_type": "execute_result",
          "data": {
            "text/plain": [
              "1"
            ]
          },
          "metadata": {},
          "execution_count": 15
        }
      ]
    },
    {
      "cell_type": "code",
      "metadata": {
        "colab": {
          "base_uri": "https://localhost:8080/"
        },
        "id": "lyjPcT8kX9Vg",
        "outputId": "0ac55d9b-5770-48fa-b6e6-2858505e461c"
      },
      "source": [
        "# Convert 1 to boolean\n",
        "bool(1) # This will be true"
      ],
      "execution_count": 16,
      "outputs": [
        {
          "output_type": "execute_result",
          "data": {
            "text/plain": [
              "True"
            ]
          },
          "metadata": {},
          "execution_count": 16
        }
      ]
    },
    {
      "cell_type": "code",
      "metadata": {
        "colab": {
          "base_uri": "https://localhost:8080/"
        },
        "id": "NEN_JZphX-6o",
        "outputId": "6dda950d-becd-4bef-aec0-87e735bfaf70"
      },
      "source": [
        "# Convert 0 to boolean\n",
        "bool(0) # This will be false"
      ],
      "execution_count": 17,
      "outputs": [
        {
          "output_type": "execute_result",
          "data": {
            "text/plain": [
              "False"
            ]
          },
          "metadata": {},
          "execution_count": 17
        }
      ]
    },
    {
      "cell_type": "code",
      "metadata": {
        "colab": {
          "base_uri": "https://localhost:8080/"
        },
        "id": "n9FpYlQcYBMY",
        "outputId": "165ae5be-76cc-47c0-ad34-763b4744143a"
      },
      "source": [
        "# Convert True to float\n",
        "float(True) #This will give us 1.0"
      ],
      "execution_count": 18,
      "outputs": [
        {
          "output_type": "execute_result",
          "data": {
            "text/plain": [
              "1.0"
            ]
          },
          "metadata": {},
          "execution_count": 18
        }
      ]
    },
    {
      "cell_type": "code",
      "metadata": {
        "colab": {
          "base_uri": "https://localhost:8080/"
        },
        "id": "bVpBHY_hYCvA",
        "outputId": "e0c98717-f06c-4b3a-ba47-2e96797dd02d"
      },
      "source": [
        "# Just with 1 /, Python will give us the float\n",
        "type(6/2)"
      ],
      "execution_count": 19,
      "outputs": [
        {
          "output_type": "execute_result",
          "data": {
            "text/plain": [
              "float"
            ]
          },
          "metadata": {},
          "execution_count": 19
        }
      ]
    },
    {
      "cell_type": "code",
      "metadata": {
        "colab": {
          "base_uri": "https://localhost:8080/"
        },
        "id": "F5o2ZBCOYD9Q",
        "outputId": "fa48f920-341e-44d5-e581-1a007087f215"
      },
      "source": [
        "# With 2 //, Python will return us the int\n",
        "type(6//2)"
      ],
      "execution_count": 20,
      "outputs": [
        {
          "output_type": "execute_result",
          "data": {
            "text/plain": [
              "int"
            ]
          },
          "metadata": {},
          "execution_count": 20
        }
      ]
    },
    {
      "cell_type": "markdown",
      "metadata": {
        "id": "1PDoEO8UeM9L"
      },
      "source": [
        "\n",
        "# Hands-ON LAB: Yout first program (MODULE 1, LAB 2)"
      ]
    },
    {
      "cell_type": "markdown",
      "metadata": {
        "id": "1wS22e8teiqi"
      },
      "source": [
        "## STRING OPERATIONS"
      ]
    },
    {
      "cell_type": "markdown",
      "metadata": {
        "id": "F4btoey3f5x0"
      },
      "source": [
        "### What are strings?"
      ]
    },
    {
      "cell_type": "code",
      "metadata": {
        "colab": {
          "base_uri": "https://localhost:8080/",
          "height": 0
        },
        "id": "H3APdeZwerRX",
        "outputId": "54fe15f8-6b99-4ac6-a0ab-654d0ced48e1"
      },
      "source": [
        "# A string is a group of characters inside a quotation marks (\"\" or '')\n",
        "\n",
        "# Print the string\n",
        "\n",
        "print(\"hello!\")\n",
        "\n",
        "# We can bind or assign a string to another varialbe\n",
        "# Assign string to variable\n",
        "\n",
        "name = \"Michael Jackson\"\n",
        "name\n"
      ],
      "execution_count": 22,
      "outputs": [
        {
          "output_type": "stream",
          "name": "stdout",
          "text": [
            "hello!\n"
          ]
        },
        {
          "output_type": "execute_result",
          "data": {
            "application/vnd.google.colaboratory.intrinsic+json": {
              "type": "string"
            },
            "text/plain": [
              "'Michael Jackson'"
            ]
          },
          "metadata": {},
          "execution_count": 22
        }
      ]
    },
    {
      "cell_type": "markdown",
      "metadata": {
        "id": "lX4w1aVUgIvS"
      },
      "source": [
        "### INDEXING\n"
      ]
    },
    {
      "cell_type": "code",
      "metadata": {
        "colab": {
          "base_uri": "https://localhost:8080/"
        },
        "id": "Bo9K2luMgduy",
        "outputId": "2bac7464-1b15-4376-846a-0b700843147c"
      },
      "source": [
        "# It is helpful to think of a string as an ordered sequence. \n",
        "# Each element in the sequence can be accessed using an index represented by the array of numbers\n",
        "\n",
        "#For example, in the string \"Sergi Garcia\", the number 0 would be \"S\"\n",
        "\n",
        "name = \"Sergi Garcia\"\n",
        "print(name[0]) #This will print just the first letter\n",
        "print(name[0:5]) #This will print from 1st to 6th letter or character \n",
        "print(name[-1]) # This will print the last letter, because we can also use negative index.\n"
      ],
      "execution_count": 29,
      "outputs": [
        {
          "output_type": "stream",
          "name": "stdout",
          "text": [
            "S\n",
            "Sergi\n",
            "a\n"
          ]
        }
      ]
    },
    {
      "cell_type": "code",
      "metadata": {
        "colab": {
          "base_uri": "https://localhost:8080/"
        },
        "id": "6GoqTlpzhp2R",
        "outputId": "e4534562-d1fc-4d94-d25a-c84d2888b232"
      },
      "source": [
        "# We can also find the number of charactesrs in a string by using \"len\", short for length:\n",
        "# Find the length of string\n",
        "\n",
        "len(\"Michael Jackson\")\n"
      ],
      "execution_count": 31,
      "outputs": [
        {
          "output_type": "execute_result",
          "data": {
            "text/plain": [
              "15"
            ]
          },
          "metadata": {},
          "execution_count": 31
        }
      ]
    },
    {
      "cell_type": "code",
      "metadata": {
        "colab": {
          "base_uri": "https://localhost:8080/",
          "height": 36
        },
        "id": "ipTW7CE4g9KC",
        "outputId": "d69ede1b-4965-49f5-a040-8ea4972e1f5b"
      },
      "source": [
        "# We can also  input a stride value as follows, with the '2' indicating that we are selecting every second variable:\n",
        "# Get every second element. The elments on index 1, 3, 5 ...\n",
        "\n",
        "name[::2]\n",
        "\n",
        "\n"
      ],
      "execution_count": 36,
      "outputs": [
        {
          "output_type": "execute_result",
          "data": {
            "application/vnd.google.colaboratory.intrinsic+json": {
              "type": "string"
            },
            "text/plain": [
              "'SriGri'"
            ]
          },
          "metadata": {},
          "execution_count": 36
        }
      ]
    },
    {
      "cell_type": "code",
      "metadata": {
        "colab": {
          "base_uri": "https://localhost:8080/",
          "height": 36
        },
        "id": "qi-lrKMliEmR",
        "outputId": "4110e88e-fc8c-4376-9240-efcbe536a094"
      },
      "source": [
        "# We can also incorporate slicing  with the stride. In this case, we select the first five elements and then use the stride:\n",
        "# Get every second element in the range from index 0 to index 4\n",
        "\n",
        "name[0:5:2] #From 0 to 5 give me the the 2nd elements"
      ],
      "execution_count": 41,
      "outputs": [
        {
          "output_type": "execute_result",
          "data": {
            "application/vnd.google.colaboratory.intrinsic+json": {
              "type": "string"
            },
            "text/plain": [
              "'Sri'"
            ]
          },
          "metadata": {},
          "execution_count": 41
        }
      ]
    },
    {
      "cell_type": "code",
      "metadata": {
        "id": "xTAAb-87iU6x"
      },
      "source": [
        ""
      ],
      "execution_count": null,
      "outputs": []
    },
    {
      "cell_type": "markdown",
      "metadata": {
        "id": "Vg0LMc09i34z"
      },
      "source": [
        "### CONCATENATE STRINGS\n",
        "\n",
        "```\n",
        "# Tiene formato de código\n",
        "```\n",
        "\n"
      ]
    },
    {
      "cell_type": "code",
      "metadata": {
        "colab": {
          "base_uri": "https://localhost:8080/"
        },
        "id": "K5CbwCjIi-Fq",
        "outputId": "ffca936f-982a-4195-a8be-12d48b0851e8"
      },
      "source": [
        "# We can concatenate or combine strings by using the addition symbols, and the result is a new string that is a combination of both:\n",
        "\n",
        "# Concatenate two strings\n",
        "\n",
        "statement = name + \" is the best\"\n",
        "print(statement)\n"
      ],
      "execution_count": 44,
      "outputs": [
        {
          "output_type": "stream",
          "name": "stdout",
          "text": [
            "Sergi Garcia is the best\n"
          ]
        }
      ]
    },
    {
      "cell_type": "code",
      "metadata": {
        "colab": {
          "base_uri": "https://localhost:8080/",
          "height": 36
        },
        "id": "bDTaXtwYjSUy",
        "outputId": "36211200-ddee-4c0b-932d-9976242c9e05"
      },
      "source": [
        "# To replicate values of a string we simply multiply the string by the number of times we would like to replicate it. \n",
        "#In this case, the number is three. The result is a new string, and this new string consists of three copies of the original string\n",
        "\n",
        "# Print the string for 3 times\n",
        "\n",
        "3 * \"Michael Jackson\"\n"
      ],
      "execution_count": 45,
      "outputs": [
        {
          "output_type": "execute_result",
          "data": {
            "application/vnd.google.colaboratory.intrinsic+json": {
              "type": "string"
            },
            "text/plain": [
              "'Michael JacksonMichael JacksonMichael Jackson'"
            ]
          },
          "metadata": {},
          "execution_count": 45
        }
      ]
    },
    {
      "cell_type": "code",
      "metadata": {
        "colab": {
          "base_uri": "https://localhost:8080/"
        },
        "id": "JPcy1zhojj4y",
        "outputId": "5f9d6f18-c872-4dd9-e599-c5a18cf858c4"
      },
      "source": [
        "#You can create a new string by setting it to the original variable. \n",
        "# Concatenated  with a new string, the result is a new string that changes from Michael Jackson to “Michael Jackson is the best\".\n",
        "# Concatenate strings\n",
        "\n",
        "name = \"Michael Jackson\"\n",
        "name = name + \" is the best\"\n",
        "name = name + \" singer\" # Every time we add something to the variable, it becomes the new regular variable \n",
        "# so from now on, the varible \"name\" will be \"Michael Jackson is the best singer\"\n",
        "print(name)"
      ],
      "execution_count": 49,
      "outputs": [
        {
          "output_type": "stream",
          "name": "stdout",
          "text": [
            "Michael Jackson is the best singer\n"
          ]
        }
      ]
    },
    {
      "cell_type": "markdown",
      "metadata": {
        "id": "2SFmjRlAkb0D"
      },
      "source": [
        "### String Operations "
      ]
    },
    {
      "cell_type": "markdown",
      "metadata": {
        "id": "5ELUDl08keMy"
      },
      "source": [
        "#### Upper method\n"
      ]
    },
    {
      "cell_type": "code",
      "metadata": {
        "colab": {
          "base_uri": "https://localhost:8080/"
        },
        "id": "axroGET0kk3S",
        "outputId": "3bfe92aa-a8a0-4a2c-ff98-bd05941a3a03"
      },
      "source": [
        "# There are many string operation methods in Python that can be used to manipulate the data.\n",
        "# We are going to use some basic string operations on the data.\n",
        "\n",
        "# Let's try with the method upper; this method converts lower case characters to upper case characters:\n",
        "# Convert all the characters in string to upper case\n",
        "\n",
        "a = \"Thriller is the sixth studio album\" #Aquí creamos la variable\n",
        "print(\"before upper:\", a) # We print the variable\n",
        "\n",
        "b = a.upper() # We create a new variable using the function to change a to upper letters\n",
        "print(\"After upper:\", b) # We pritn the text \"After upper:\" and the variable that we have created."
      ],
      "execution_count": 52,
      "outputs": [
        {
          "output_type": "stream",
          "name": "stdout",
          "text": [
            "before upper: Thriller is the sixth studio album\n",
            "After upper: THRILLER IS THE SIXTH STUDIO ALBUM\n"
          ]
        }
      ]
    },
    {
      "cell_type": "markdown",
      "metadata": {
        "id": "DBi2Glh7lqtB"
      },
      "source": [
        "#### Replace method"
      ]
    },
    {
      "cell_type": "code",
      "metadata": {
        "colab": {
          "base_uri": "https://localhost:8080/"
        },
        "id": "UA5vozzbk12p",
        "outputId": "7dbefd1f-1a2f-4313-9e60-7c5b70dbde8a"
      },
      "source": [
        "#The method \"replace\" replaces a segment of the string, i.e. a substring with a new string. We input the part of the string we would like to change. \n",
        "#The second argument is what we would like to exchange the segment with, and the result is a new string with the segment changed:\n",
        "\n",
        "a = \"I love playing football\"\n",
        "b = a.replace(\"love\", \"hate\") #we are modifying love into hate\n",
        "c = a.replace(\"football\", \"basketball\")\n",
        "\n",
        "print(b)\n",
        "print(b, \"and\", c) #we print both variables we have modified before"
      ],
      "execution_count": 55,
      "outputs": [
        {
          "output_type": "stream",
          "name": "stdout",
          "text": [
            "I hate playing football\n",
            "I hate playing football and I love playing basketball\n"
          ]
        }
      ]
    },
    {
      "cell_type": "markdown",
      "metadata": {
        "id": "xIv8UD40l8M_"
      },
      "source": [
        "#### Find method"
      ]
    },
    {
      "cell_type": "code",
      "metadata": {
        "colab": {
          "base_uri": "https://localhost:8080/"
        },
        "id": "QjoZhOiFmt0p",
        "outputId": "e66bf585-dcad-4a4c-a3dd-f385e9542d2b"
      },
      "source": [
        "#The method \"find\" finds a sub-string. The argument is the substring you would like to find, and the output is the first index of the sequence.\n",
        "# We can find the sub-string \"Serg\" or \"cia\"\n",
        "\n",
        "# Find the substring in the string. Only the index of the first elment of substring in string will be the output\n",
        "\n",
        "name = \"Sergi Garcia\"\n",
        "name.find('erg')\n",
        "\n"
      ],
      "execution_count": 61,
      "outputs": [
        {
          "output_type": "execute_result",
          "data": {
            "text/plain": [
              "1"
            ]
          },
          "metadata": {},
          "execution_count": 61
        }
      ]
    },
    {
      "cell_type": "code",
      "metadata": {
        "colab": {
          "base_uri": "https://localhost:8080/"
        },
        "id": "yTCB-M2Qmwo6",
        "outputId": "dd00037c-96c8-4b34-d482-cdebda130e30"
      },
      "source": [
        "# Find the substring in the string.\n",
        "\n",
        "name.find('cia')\n"
      ],
      "execution_count": 62,
      "outputs": [
        {
          "output_type": "execute_result",
          "data": {
            "text/plain": [
              "9"
            ]
          },
          "metadata": {},
          "execution_count": 62
        }
      ]
    },
    {
      "cell_type": "code",
      "metadata": {
        "colab": {
          "base_uri": "https://localhost:8080/"
        },
        "id": "bBjzKT5znaY5",
        "outputId": "8cca1856-5658-4b61-ea62-2233a3259561"
      },
      "source": [
        "#If the  sub-string is not in the string then the output is a negative one. For example, the string 'Jasdfasdasdf' is not a substring:\n",
        "\n",
        "name.find(\"RERE\") # We will get a negative number since this string can't be found in the function"
      ],
      "execution_count": 64,
      "outputs": [
        {
          "output_type": "execute_result",
          "data": {
            "text/plain": [
              "-1"
            ]
          },
          "metadata": {},
          "execution_count": 64
        }
      ]
    },
    {
      "cell_type": "code",
      "metadata": {
        "id": "zg_XJ_OTnf2R"
      },
      "source": [
        ""
      ],
      "execution_count": null,
      "outputs": []
    }
  ]
}
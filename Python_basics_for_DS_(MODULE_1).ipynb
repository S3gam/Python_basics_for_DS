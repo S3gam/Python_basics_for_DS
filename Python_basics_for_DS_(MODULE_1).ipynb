{
  "nbformat": 4,
  "nbformat_minor": 0,
  "metadata": {
    "colab": {
      "name": "Python basics for DS (MODULE 1, LAB 1).ipynb",
      "provenance": [],
      "authorship_tag": "ABX9TyM8kOghlGKXKxcGLvhzELlD",
      "include_colab_link": true
    },
    "kernelspec": {
      "name": "python3",
      "display_name": "Python 3"
    },
    "language_info": {
      "name": "python"
    }
  },
  "cells": [
    {
      "cell_type": "markdown",
      "metadata": {
        "id": "view-in-github",
        "colab_type": "text"
      },
      "source": [
        "<a href=\"https://colab.research.google.com/github/S3gam/Python_basics_for_DS/blob/master/Python_basics_for_DS_(MODULE_1%2C_LAB_1).ipynb\" target=\"_parent\"><img src=\"https://colab.research.google.com/assets/colab-badge.svg\" alt=\"Open In Colab\"/></a>"
      ]
    },
    {
      "cell_type": "markdown",
      "metadata": {
        "id": "1M5mNPP5WeAj"
      },
      "source": [
        "# Hands-ON LAB: Yout first program (MODULE 1, LAB 1)"
      ]
    },
    {
      "cell_type": "code",
      "metadata": {
        "colab": {
          "base_uri": "https://localhost:8080/"
        },
        "id": "ahtYnSffWctc",
        "outputId": "cdee9402-9fd2-4c19-b8d3-7ff522e5f2b9"
      },
      "source": [
        "print ('Hello, Python')\n",
        "\n",
        "import sys #sys is a built-in module that contains many system-specific parameters and functions,\n",
        "# including the Python version in use. Before using it, we must explictly import it.\n",
        "\n",
        "print(sys.version)\n"
      ],
      "execution_count": 1,
      "outputs": [
        {
          "output_type": "stream",
          "name": "stdout",
          "text": [
            "Hello, Python\n",
            "3.7.12 (default, Sep 10 2021, 00:21:48) \n",
            "[GCC 7.5.0]\n"
          ]
        }
      ]
    },
    {
      "cell_type": "code",
      "metadata": {
        "id": "SAqi9WCzWhkx"
      },
      "source": [
        "print(\"This will be printed\") # This will be prinjted since it is welll spelled a\n",
        "frint(\"This will cause an error\") #This will not be printed since the function is wrong, this stops the run\n",
        "print(\"This will NOT be printed\") # Thus, this will not be printed since Python stoped the run in the error"
      ],
      "execution_count": null,
      "outputs": []
    },
    {
      "cell_type": "markdown",
      "metadata": {
        "id": "-Yn8zSxHWv3i"
      },
      "source": [
        "####TYPES OF OBJECTS IN PYTHON\n",
        "\n"
      ]
    },
    {
      "cell_type": "code",
      "metadata": {
        "id": "AoY2L62bXIfK"
      },
      "source": [
        "# String (str) text\n",
        "# Integer (int) whole numbers such as 1, 2, -1, -200 ...\n",
        "# Floar (float) Decimal nombers such as 2.14, 3.8752, 125.659\n",
        "\n",
        "# You can get Python to tell you the type of an expression by using the built-in type() function.\n",
        "# You'll notice that Python refers to integers as int, floats as float, and character strings as str."
      ],
      "execution_count": 5,
      "outputs": []
    },
    {
      "cell_type": "code",
      "metadata": {
        "colab": {
          "base_uri": "https://localhost:8080/"
        },
        "id": "IbCOb9SbXJJh",
        "outputId": "e0c3a6ca-a069-4d87-f984-f80e9f756c55"
      },
      "source": [
        "type(12) #Esto nos debería decir el tipo de objeto dentro del parentesis\n"
      ],
      "execution_count": 7,
      "outputs": [
        {
          "output_type": "execute_result",
          "data": {
            "text/plain": [
              "int"
            ]
          },
          "metadata": {},
          "execution_count": 7
        }
      ]
    },
    {
      "cell_type": "code",
      "metadata": {
        "colab": {
          "base_uri": "https://localhost:8080/"
        },
        "id": "YCG07bU3XReR",
        "outputId": "77319552-716c-4d63-8ea1-77783050b14a"
      },
      "source": [
        "type(2.56) # This will show us that the object is a float"
      ],
      "execution_count": 8,
      "outputs": [
        {
          "output_type": "execute_result",
          "data": {
            "text/plain": [
              "float"
            ]
          },
          "metadata": {},
          "execution_count": 8
        }
      ]
    },
    {
      "cell_type": "code",
      "metadata": {
        "colab": {
          "base_uri": "https://localhost:8080/"
        },
        "id": "NekFv22_XTcJ",
        "outputId": "c0b6c388-6bb3-4862-814b-0fd67df082f1"
      },
      "source": [
        "type(\"Hello World\") #Thi9s will show us that the object is a string"
      ],
      "execution_count": 10,
      "outputs": [
        {
          "output_type": "execute_result",
          "data": {
            "text/plain": [
              "str"
            ]
          },
          "metadata": {},
          "execution_count": 10
        }
      ]
    },
    {
      "cell_type": "code",
      "metadata": {
        "colab": {
          "base_uri": "https://localhost:8080/"
        },
        "id": "1EnkFDQ-XVOg",
        "outputId": "57297376-0d97-4f48-8e3d-051127d9e76b"
      },
      "source": [
        "float(2) #This changes the integer 2 into floating number"
      ],
      "execution_count": 11,
      "outputs": [
        {
          "output_type": "execute_result",
          "data": {
            "text/plain": [
              "2.0"
            ]
          },
          "metadata": {},
          "execution_count": 11
        }
      ]
    },
    {
      "cell_type": "code",
      "metadata": {
        "colab": {
          "base_uri": "https://localhost:8080/"
        },
        "id": "lHfEa8xcXlKI",
        "outputId": "a749ecc5-c86f-4d3f-b492-e5a40f64235c"
      },
      "source": [
        "int(2.3) #This will change the float number into integer, we lose the decimal information"
      ],
      "execution_count": 12,
      "outputs": [
        {
          "output_type": "execute_result",
          "data": {
            "text/plain": [
              "2"
            ]
          },
          "metadata": {},
          "execution_count": 12
        }
      ]
    },
    {
      "cell_type": "code",
      "metadata": {
        "id": "yx2WogsTXnHh"
      },
      "source": [
        ""
      ],
      "execution_count": null,
      "outputs": []
    },
    {
      "cell_type": "markdown",
      "metadata": {
        "id": "cx0QoRswXot6"
      },
      "source": [
        "#### BOOLEAN DATA TYPE\n",
        "\n",
        "\n",
        "\n"
      ]
    },
    {
      "cell_type": "code",
      "metadata": {
        "colab": {
          "base_uri": "https://localhost:8080/"
        },
        "id": "NW7vN2xkXvM5",
        "outputId": "b5716cc4-9d6e-436c-c693-4a7c6b32e6f9"
      },
      "source": [
        "# Type of True\n",
        "type(True)"
      ],
      "execution_count": 13,
      "outputs": [
        {
          "output_type": "execute_result",
          "data": {
            "text/plain": [
              "bool"
            ]
          },
          "metadata": {},
          "execution_count": 13
        }
      ]
    },
    {
      "cell_type": "code",
      "metadata": {
        "colab": {
          "base_uri": "https://localhost:8080/"
        },
        "id": "3X-P12OsX6I5",
        "outputId": "53dc92fd-2375-44d3-a2e3-183d14148fb1"
      },
      "source": [
        "# Type of False\n",
        "type(False)"
      ],
      "execution_count": 14,
      "outputs": [
        {
          "output_type": "execute_result",
          "data": {
            "text/plain": [
              "bool"
            ]
          },
          "metadata": {},
          "execution_count": 14
        }
      ]
    },
    {
      "cell_type": "code",
      "metadata": {
        "colab": {
          "base_uri": "https://localhost:8080/"
        },
        "id": "MVfXnAuuX70h",
        "outputId": "b7bcb509-72d8-4321-983b-431acd8c4a14"
      },
      "source": [
        "# Convert True to int\n",
        "int(True) # this will be 1"
      ],
      "execution_count": 15,
      "outputs": [
        {
          "output_type": "execute_result",
          "data": {
            "text/plain": [
              "1"
            ]
          },
          "metadata": {},
          "execution_count": 15
        }
      ]
    },
    {
      "cell_type": "code",
      "metadata": {
        "colab": {
          "base_uri": "https://localhost:8080/"
        },
        "id": "lyjPcT8kX9Vg",
        "outputId": "0ac55d9b-5770-48fa-b6e6-2858505e461c"
      },
      "source": [
        "# Convert 1 to boolean\n",
        "bool(1) # This will be true"
      ],
      "execution_count": 16,
      "outputs": [
        {
          "output_type": "execute_result",
          "data": {
            "text/plain": [
              "True"
            ]
          },
          "metadata": {},
          "execution_count": 16
        }
      ]
    },
    {
      "cell_type": "code",
      "metadata": {
        "colab": {
          "base_uri": "https://localhost:8080/"
        },
        "id": "NEN_JZphX-6o",
        "outputId": "6dda950d-becd-4bef-aec0-87e735bfaf70"
      },
      "source": [
        "# Convert 0 to boolean\n",
        "bool(0) # This will be false"
      ],
      "execution_count": 17,
      "outputs": [
        {
          "output_type": "execute_result",
          "data": {
            "text/plain": [
              "False"
            ]
          },
          "metadata": {},
          "execution_count": 17
        }
      ]
    },
    {
      "cell_type": "code",
      "metadata": {
        "colab": {
          "base_uri": "https://localhost:8080/"
        },
        "id": "n9FpYlQcYBMY",
        "outputId": "165ae5be-76cc-47c0-ad34-763b4744143a"
      },
      "source": [
        "# Convert True to float\n",
        "float(True) #This will give us 1.0"
      ],
      "execution_count": 18,
      "outputs": [
        {
          "output_type": "execute_result",
          "data": {
            "text/plain": [
              "1.0"
            ]
          },
          "metadata": {},
          "execution_count": 18
        }
      ]
    },
    {
      "cell_type": "code",
      "metadata": {
        "colab": {
          "base_uri": "https://localhost:8080/"
        },
        "id": "bVpBHY_hYCvA",
        "outputId": "e0c98717-f06c-4b3a-ba47-2e96797dd02d"
      },
      "source": [
        "# Just with 1 /, Python will give us the float\n",
        "type(6/2)"
      ],
      "execution_count": 19,
      "outputs": [
        {
          "output_type": "execute_result",
          "data": {
            "text/plain": [
              "float"
            ]
          },
          "metadata": {},
          "execution_count": 19
        }
      ]
    },
    {
      "cell_type": "code",
      "metadata": {
        "colab": {
          "base_uri": "https://localhost:8080/"
        },
        "id": "F5o2ZBCOYD9Q",
        "outputId": "fa48f920-341e-44d5-e581-1a007087f215"
      },
      "source": [
        "# With 2 //, Python will return us the int\n",
        "type(6//2)"
      ],
      "execution_count": 20,
      "outputs": [
        {
          "output_type": "execute_result",
          "data": {
            "text/plain": [
              "int"
            ]
          },
          "metadata": {},
          "execution_count": 20
        }
      ]
    },
    {
      "cell_type": "code",
      "metadata": {
        "id": "xSgFPwBlYFZY"
      },
      "source": [
        ""
      ],
      "execution_count": null,
      "outputs": []
    }
  ]
}
{
  "nbformat": 4,
  "nbformat_minor": 0,
  "metadata": {
    "colab": {
      "name": "Python_basics_for_DS_(Module_2).ipynb",
      "provenance": [],
      "authorship_tag": "ABX9TyObKxKTtfhTfiZ3FLfgThOt",
      "include_colab_link": true
    },
    "kernelspec": {
      "name": "python3",
      "display_name": "Python 3"
    },
    "language_info": {
      "name": "python"
    }
  },
  "cells": [
    {
      "cell_type": "markdown",
      "metadata": {
        "id": "view-in-github",
        "colab_type": "text"
      },
      "source": [
        "<a href=\"https://colab.research.google.com/github/S3gam/Python_basics_for_DS/blob/master/Python_basics_for_DS_(Module_2).ipynb\" target=\"_parent\"><img src=\"https://colab.research.google.com/assets/colab-badge.svg\" alt=\"Open In Colab\"/></a>"
      ]
    },
    {
      "cell_type": "markdown",
      "metadata": {
        "id": "WgO8o9kZbleu"
      },
      "source": [
        "# Hands-ON LAB: Lists in Python (MODULE 2, LAB 1)\n"
      ]
    },
    {
      "cell_type": "markdown",
      "metadata": {
        "id": "0t0gFyIWdF-8"
      },
      "source": [
        "## <h2 id=\"#dataset\">About the Dataset</h2>\n"
      ]
    },
    {
      "cell_type": "markdown",
      "metadata": {
        "id": "NvKxsw-FcE57"
      },
      "source": [
        "\n",
        "Imagine you received album recommendations from your friends and compiled all of the recommandations into a table, with specific information about each album.\n",
        "\n",
        "The table has one row for each movie and several columns:\n",
        "\n",
        "*   **artist** - Name of the artist\n",
        "*   **album** - Name of the album\n",
        "*   **released_year** - Year the album was released\n",
        "*   **length_min_sec** - Length of the album (hours,minutes,seconds)\n",
        "*   **genre** - Genre of the album\n",
        "*   **music_recording_sales_millions** - Music recording sales (millions in USD) on [SONG://DATABASE](http://www.song-database.com/?utm_medium=Exinfluencer&utm_source=Exinfluencer&utm_content=000026UJ&utm_term=10006555&utm_id=NA-SkillsNetwork-Channel-SkillsNetworkCoursesIBMDeveloperSkillsNetworkPY0101ENSkillsNetwork19487395-2021-01-01)\n",
        "*   **claimed_sales_millions** - Album's claimed sales (millions in USD) on [SONG://DATABASE](http://www.song-database.com/?utm_medium=Exinfluencer&utm_source=Exinfluencer&utm_content=000026UJ&utm_term=10006555&utm_id=NA-SkillsNetwork-Channel-SkillsNetworkCoursesIBMDeveloperSkillsNetworkPY0101ENSkillsNetwork19487395-2021-01-01)\n",
        "*   **date_released** - Date on which the album was released\n",
        "*   **soundtrack** - Indicates if the album is the movie soundtrack (Y) or (N)\n",
        "*   **rating_of_friends** - Indicates the rating from your friends from 1 to 10\n",
        "\n",
        "<br>\n",
        "<br>\n",
        "\n",
        "The dataset can be seen below:\n",
        "\n",
        "<font size=\"1\">\n",
        "<table font-size:xx-small>\n",
        "  <tr>\n",
        "    <th>Artist</th>\n",
        "    <th>Album</th> \n",
        "    <th>Released</th>\n",
        "    <th>Length</th>\n",
        "    <th>Genre</th> \n",
        "    <th>Music recording sales (millions)</th>\n",
        "    <th>Claimed sales (millions)</th>\n",
        "    <th>Released</th>\n",
        "    <th>Soundtrack</th>\n",
        "    <th>Rating (friends)</th>\n",
        "  </tr>\n",
        "  <tr>\n",
        "    <td>Michael Jackson</td>\n",
        "    <td>Thriller</td> \n",
        "    <td>1982</td>\n",
        "    <td>00:42:19</td>\n",
        "    <td>Pop, rock, R&B</td>\n",
        "    <td>46</td>\n",
        "    <td>65</td>\n",
        "    <td>30-Nov-82</td>\n",
        "    <td></td>\n",
        "    <td>10.0</td>\n",
        "  </tr>\n",
        "  <tr>\n",
        "    <td>AC/DC</td>\n",
        "    <td>Back in Black</td> \n",
        "    <td>1980</td>\n",
        "    <td>00:42:11</td>\n",
        "    <td>Hard rock</td>\n",
        "    <td>26.1</td>\n",
        "    <td>50</td>\n",
        "    <td>25-Jul-80</td>\n",
        "    <td></td>\n",
        "    <td>8.5</td>\n",
        "  </tr>\n",
        "    <tr>\n",
        "    <td>Pink Floyd</td>\n",
        "    <td>The Dark Side of the Moon</td> \n",
        "    <td>1973</td>\n",
        "    <td>00:42:49</td>\n",
        "    <td>Progressive rock</td>\n",
        "    <td>24.2</td>\n",
        "    <td>45</td>\n",
        "    <td>01-Mar-73</td>\n",
        "    <td></td>\n",
        "    <td>9.5</td>\n",
        "  </tr>\n",
        "    <tr>\n",
        "    <td>Whitney Houston</td>\n",
        "    <td>The Bodyguard</td> \n",
        "    <td>1992</td>\n",
        "    <td>00:57:44</td>\n",
        "    <td>Soundtrack/R&B, soul, pop</td>\n",
        "    <td>26.1</td>\n",
        "    <td>50</td>\n",
        "    <td>25-Jul-80</td>\n",
        "    <td>Y</td>\n",
        "    <td>7.0</td>\n",
        "  </tr>\n",
        "    <tr>\n",
        "    <td>Meat Loaf</td>\n",
        "    <td>Bat Out of Hell</td> \n",
        "    <td>1977</td>\n",
        "    <td>00:46:33</td>\n",
        "    <td>Hard rock, progressive rock</td>\n",
        "    <td>20.6</td>\n",
        "    <td>43</td>\n",
        "    <td>21-Oct-77</td>\n",
        "    <td></td>\n",
        "    <td>7.0</td>\n",
        "  </tr>\n",
        "    <tr>\n",
        "    <td>Eagles</td>\n",
        "    <td>Their Greatest Hits (1971-1975)</td> \n",
        "    <td>1976</td>\n",
        "    <td>00:43:08</td>\n",
        "    <td>Rock, soft rock, folk rock</td>\n",
        "    <td>32.2</td>\n",
        "    <td>42</td>\n",
        "    <td>17-Feb-76</td>\n",
        "    <td></td>\n",
        "    <td>9.5</td>\n",
        "  </tr>\n",
        "    <tr>\n",
        "    <td>Bee Gees</td>\n",
        "    <td>Saturday Night Fever</td> \n",
        "    <td>1977</td>\n",
        "    <td>1:15:54</td>\n",
        "    <td>Disco</td>\n",
        "    <td>20.6</td>\n",
        "    <td>40</td>\n",
        "    <td>15-Nov-77</td>\n",
        "    <td>Y</td>\n",
        "    <td>9.0</td>\n",
        "  </tr>\n",
        "    <tr>\n",
        "    <td>Fleetwood Mac</td>\n",
        "    <td>Rumours</td> \n",
        "    <td>1977</td>\n",
        "    <td>00:40:01</td>\n",
        "    <td>Soft rock</td>\n",
        "    <td>27.9</td>\n",
        "    <td>40</td>\n",
        "    <td>04-Feb-77</td>\n",
        "    <td></td>\n",
        "    <td>9.5</td>\n",
        "  </tr>\n",
        "</table></font>\n",
        "\n",
        "\n",
        "\n"
      ]
    },
    {
      "cell_type": "markdown",
      "metadata": {
        "id": "YQdY4wM1cYZs"
      },
      "source": [
        "## Lists"
      ]
    },
    {
      "cell_type": "markdown",
      "metadata": {
        "id": "b9KU89CEdS2r"
      },
      "source": [
        "<h3 id=\"index\">Indexing</h3>\n"
      ]
    },
    {
      "cell_type": "markdown",
      "metadata": {
        "id": "JoCYRjPHdZJb"
      },
      "source": [
        "We are going to take a look at lists in Python. A list is a sequenced collection of different objects such as integers, strings, and even other lists as well. The address of each element within a list is called an <b>index</b>. An index is used to access and refer to items within a list.\n"
      ]
    },
    {
      "cell_type": "markdown",
      "metadata": {
        "id": "yHUAfz2ddc7T"
      },
      "source": [
        "<img src=\"https://cf-courses-data.s3.us.cloud-object-storage.appdomain.cloud/IBMDeveloperSkillsNetwork-PY0101EN-SkillsNetwork/labs/Module%202/images/ListsIndex.png\" width=\"1000\" />"
      ]
    },
    {
      "cell_type": "markdown",
      "metadata": {
        "id": "ttupuJhsdjGr"
      },
      "source": [
        "To create a list, type the list within square brackets <b>\\[ ]</b>, with your content inside the parenthesis and separated by commas. Let’s try it!\n"
      ]
    },
    {
      "cell_type": "code",
      "metadata": {
        "colab": {
          "base_uri": "https://localhost:8080/"
        },
        "id": "MIx3tO_Ydynr",
        "outputId": "b35f7022-0817-4488-e883-73bb757724de"
      },
      "source": [
        "# Create a list\n",
        "\n",
        "L = [\"Segam\", 15.3, 5]\n",
        "L"
      ],
      "execution_count": 9,
      "outputs": [
        {
          "output_type": "execute_result",
          "data": {
            "text/plain": [
              "['Segam', 15.3, 5]"
            ]
          },
          "metadata": {},
          "execution_count": 9
        }
      ]
    },
    {
      "cell_type": "markdown",
      "metadata": {
        "id": "afYNiZoHd-vb"
      },
      "source": [
        "We can use negative and regular indexing with a list:\n"
      ]
    },
    {
      "cell_type": "markdown",
      "metadata": {
        "id": "f5fn8xv_eDNL"
      },
      "source": [
        "<img src=\"https://cf-courses-data.s3.us.cloud-object-storage.appdomain.cloud/IBMDeveloperSkillsNetwork-PY0101EN-SkillsNetwork/labs/Module%202/images/ListsNeg.png\" width=\"1000\" />\n"
      ]
    },
    {
      "cell_type": "code",
      "metadata": {
        "colab": {
          "base_uri": "https://localhost:8080/"
        },
        "id": "6bbICx9TeMir",
        "outputId": "c925ff86-b976-4fef-b438-6c4aab4f9c75"
      },
      "source": [
        "# Print the elements on each index\n",
        "\n",
        "print('the same element using negative and positive indexing:\\n Postive:',L[0],\n",
        "'\\n Negative:' , L[-3]  ) #L[0] an L[-3] will give us the same result\n",
        "print('the same element using negative and positive indexing:\\n Postive:',L[1],\n",
        "'\\n Negative:' , L[-2]  )\n",
        "print('the same element using negative and positive indexing:\\n Postive:',L[2],\n",
        "'\\n Negative:' , L[-1]  )"
      ],
      "execution_count": 11,
      "outputs": [
        {
          "output_type": "stream",
          "name": "stdout",
          "text": [
            "the same element using negative and positive indexing:\n",
            " Postive: Segam \n",
            " Negative: Segam\n",
            "the same element using negative and positive indexing:\n",
            " Postive: 15.3 \n",
            " Negative: 15.3\n",
            "the same element using negative and positive indexing:\n",
            " Postive: 5 \n",
            " Negative: 5\n"
          ]
        }
      ]
    },
    {
      "cell_type": "markdown",
      "metadata": {
        "id": "0dKObWNDeNi7"
      },
      "source": [
        "## List Content"
      ]
    },
    {
      "cell_type": "markdown",
      "metadata": {
        "id": "fVcW9lfheerK"
      },
      "source": [
        "Lists can contain strings, floats, and integers. We can nest other lists, and we can also nest tuples and other data structures. The same indexing conventions apply for nesting:\n"
      ]
    },
    {
      "cell_type": "code",
      "metadata": {
        "colab": {
          "base_uri": "https://localhost:8080/"
        },
        "id": "rEtRFy00ehAD",
        "outputId": "d2c64c96-e0f7-42c2-a259-6bfe181bbb0f"
      },
      "source": [
        "# Sample list\n",
        "\n",
        "S=14\n",
        "G=0.9\n",
        "\n",
        "List = [\"Segam\", 32, 0.1, 1997, \"Gener\", (S,15), [G,14]] # A list can include inside also other lists or tuples\n",
        "List"
      ],
      "execution_count": 15,
      "outputs": [
        {
          "output_type": "execute_result",
          "data": {
            "text/plain": [
              "['Segam', 32, 0.1, 1997, 'Gener', (14, 15), [0.9, 14]]"
            ]
          },
          "metadata": {},
          "execution_count": 15
        }
      ]
    },
    {
      "cell_type": "markdown",
      "metadata": {
        "id": "Et2J_9xje1Z4"
      },
      "source": [
        "## List Operations"
      ]
    },
    {
      "cell_type": "markdown",
      "metadata": {
        "id": "BsBBwOkieyFc"
      },
      "source": [
        "We can also perform slicing in lists. For example, if we want the last two elements, we use the wollowing comand:"
      ]
    },
    {
      "cell_type": "code",
      "metadata": {
        "colab": {
          "base_uri": "https://localhost:8080/"
        },
        "id": "0i1S1d-ZfS3i",
        "outputId": "04209f26-50df-447c-a93a-06795127c1fa"
      },
      "source": [
        "# Sample list\n",
        "\n",
        "S=14\n",
        "G=0.9\n",
        "\n",
        "List = [\"Segam\", 32, 0.1, 1997, \"Gener\", (S,15), [G,14]] # A list can include inside also other lists or tuples\n",
        "\n",
        "\n",
        "# List slicing\n",
        "List[0:5] # Prints the elements form index 0 to index 5"
      ],
      "execution_count": 20,
      "outputs": [
        {
          "output_type": "execute_result",
          "data": {
            "text/plain": [
              "['Segam', 32, 0.1, 1997, 'Gener']"
            ]
          },
          "metadata": {},
          "execution_count": 20
        }
      ]
    },
    {
      "cell_type": "markdown",
      "metadata": {
        "id": "T8sM-h9rfhxp"
      },
      "source": [
        "We can use the method **extend** to add new elements to the list:"
      ]
    },
    {
      "cell_type": "code",
      "metadata": {
        "colab": {
          "base_uri": "https://localhost:8080/"
        },
        "id": "tIauf_rUgCtx",
        "outputId": "609e70da-a602-44fe-81ab-ecb5e64f8a12"
      },
      "source": [
        "# Use extend to add elements to the list\n",
        "\n",
        "# Sample list\n",
        "\n",
        "S=14\n",
        "G=0.9\n",
        "\n",
        "List = [\"Segam\", 32, 0.1, 1997, \"Gener\", (S,15), [G,14]] # A list can include inside also other lists or tuples\n",
        "\n",
        "List.extend([\"Paco\",1243])\n",
        "\n",
        "List"
      ],
      "execution_count": 22,
      "outputs": [
        {
          "output_type": "execute_result",
          "data": {
            "text/plain": [
              "['Segam', 32, 0.1, 1997, 'Gener', (14, 15), [0.9, 14], 'Paco', 1243]"
            ]
          },
          "metadata": {},
          "execution_count": 22
        }
      ]
    },
    {
      "cell_type": "markdown",
      "metadata": {
        "id": "Td5ln3nhgOlR"
      },
      "source": [
        "Another similar method is append. If we apply **append** instead of **extend**, we add one element to the list"
      ]
    },
    {
      "cell_type": "code",
      "metadata": {
        "colab": {
          "base_uri": "https://localhost:8080/"
        },
        "id": "n5GBaa6hgb9C",
        "outputId": "887de383-3e40-4a88-89e8-44a8e853ff2a"
      },
      "source": [
        "# Use append to add elements to list\n",
        "\n",
        "S=14\n",
        "G=0.9\n",
        "\n",
        "List = [\"Segam\", 32, 0.1, 1997, \"Gener\", (S,15), [G,14]] # A list can include inside also other lists or tuples\n",
        "\n",
        "List.append([\"Paco\",1243]) # In this case, we are adding just one element to the list, not two diferent ones like before.\n",
        "\n",
        "List"
      ],
      "execution_count": 24,
      "outputs": [
        {
          "output_type": "execute_result",
          "data": {
            "text/plain": [
              "['Segam', 32, 0.1, 1997, 'Gener', (14, 15), [0.9, 14], ['Paco', 1243]]"
            ]
          },
          "metadata": {},
          "execution_count": 24
        }
      ]
    },
    {
      "cell_type": "markdown",
      "metadata": {
        "id": "NDUezclzg6gi"
      },
      "source": [
        "Each time we apply a method, the list changes. If we apply <code>extend</code> we add two new elements to the list. The list <code>L</code> is then modified by adding two new elements. If we append the list ['a','b'] we have one new element consisting of a nested list:\n"
      ]
    },
    {
      "cell_type": "markdown",
      "metadata": {
        "id": "DHd-aCxVhaPg"
      },
      "source": [
        "As lists are mutable, we can change them. For example, we can change the first element as follows:\n"
      ]
    },
    {
      "cell_type": "code",
      "metadata": {
        "colab": {
          "base_uri": "https://localhost:8080/"
        },
        "id": "hlhVSnG-hyp5",
        "outputId": "d2b3880f-b42b-4646-e049-fbedd956f8aa"
      },
      "source": [
        "# Change the element based on the index\n",
        "\n",
        "A = [\"Sergi Garcia\", 25]\n",
        "print(\"Before change: \", A)\n",
        "\n",
        "A[0] = \"Segam\"\n",
        "print(\"After change \", A)\n"
      ],
      "execution_count": 28,
      "outputs": [
        {
          "output_type": "stream",
          "name": "stdout",
          "text": [
            "Before change:  ['Sergi Garcia', 25]\n",
            "After change  ['Segam', 25]\n"
          ]
        }
      ]
    },
    {
      "cell_type": "markdown",
      "metadata": {
        "id": "RmHfap2RiDNK"
      },
      "source": [
        "We can also **delete** an element by using the **del** command"
      ]
    },
    {
      "cell_type": "code",
      "metadata": {
        "colab": {
          "base_uri": "https://localhost:8080/"
        },
        "id": "EOVLbId7iagg",
        "outputId": "3d479239-2d7f-404a-9b4e-5b3c38ea107e"
      },
      "source": [
        "# Delete an element based on the index\n",
        "\n",
        "A = [\"Sergi Garcia\", 25]\n",
        "print(\"Before change: \", A)\n",
        "\n",
        "del(A[1])\n",
        "print(\"After chang:\", A)"
      ],
      "execution_count": 32,
      "outputs": [
        {
          "output_type": "stream",
          "name": "stdout",
          "text": [
            "Before change:  ['Sergi Garcia', 25]\n",
            "After chang: ['Sergi Garcia']\n"
          ]
        }
      ]
    },
    {
      "cell_type": "markdown",
      "metadata": {
        "id": "FedOxfWJilQA"
      },
      "source": [
        "we can convert string to a list using **split**. For example, the method **split** translates every group of characters separated by a space into an element in a list"
      ]
    },
    {
      "cell_type": "code",
      "metadata": {
        "colab": {
          "base_uri": "https://localhost:8080/"
        },
        "id": "b5JttnAxi9vP",
        "outputId": "aae74972-2fe0-44ed-aef1-529d01cf30c2"
      },
      "source": [
        "# Split the string, default is by space\n",
        "\n",
        "\"Sergi Garcia\".split()"
      ],
      "execution_count": 34,
      "outputs": [
        {
          "output_type": "execute_result",
          "data": {
            "text/plain": [
              "['Sergi', 'Garcia']"
            ]
          },
          "metadata": {},
          "execution_count": 34
        }
      ]
    },
    {
      "cell_type": "markdown",
      "metadata": {
        "id": "uKyXNDbqjGJo"
      },
      "source": [
        "We can use the split function to separate strings on a specific character which we call a **delimiter**. We pass the character we would like to split on into the argument, which in this case is a comma.  The result is a list, and each element corresponds to a set of characters that have been separated by a comma:\n"
      ]
    },
    {
      "cell_type": "code",
      "metadata": {
        "colab": {
          "base_uri": "https://localhost:8080/"
        },
        "id": "pAwk_0_FjLPw",
        "outputId": "4f1887fb-712e-492d-c11b-504a7cfa1c6a"
      },
      "source": [
        "# Split the string by coma\n",
        "\n",
        "\"A,B,C,D,E\".split(\",\")"
      ],
      "execution_count": 36,
      "outputs": [
        {
          "output_type": "execute_result",
          "data": {
            "text/plain": [
              "['A', 'B', 'C', 'D', 'E']"
            ]
          },
          "metadata": {},
          "execution_count": 36
        }
      ]
    },
    {
      "cell_type": "markdown",
      "metadata": {
        "id": "zBvqpAWpjZVY"
      },
      "source": [
        "## Copy and Clone List"
      ]
    },
    {
      "cell_type": "markdown",
      "metadata": {
        "id": "D-bmJriLlNrt"
      },
      "source": [
        "When we set one variable <b>B</b> equal to <b>A</b>, both <b>A</b> and <b>B</b> are referencing the same list in memory:\n"
      ]
    },
    {
      "cell_type": "code",
      "metadata": {
        "colab": {
          "base_uri": "https://localhost:8080/"
        },
        "id": "CrV5yeVNlms-",
        "outputId": "26703c82-076f-4d57-ddad-0589d28de8d8"
      },
      "source": [
        "# Copy (copy by reference) the list A\n",
        "\n",
        "A = [\"hard rock\", 10, 1.2]\n",
        "B = A\n",
        "print('A:', A)\n",
        "print('B:', B)"
      ],
      "execution_count": 39,
      "outputs": [
        {
          "output_type": "stream",
          "name": "stdout",
          "text": [
            "A: ['hard rock', 10, 1.2]\n",
            "B: ['hard rock', 10, 1.2]\n"
          ]
        }
      ]
    },
    {
      "cell_type": "markdown",
      "metadata": {
        "id": "gGIAls-wloYu"
      },
      "source": [
        "<img src=\"https://cf-courses-data.s3.us.cloud-object-storage.appdomain.cloud/IBMDeveloperSkillsNetwork-PY0101EN-SkillsNetwork/labs/Module%202/images/ListsRef.png\" width=\"1000\" align=\"center\">\n"
      ]
    },
    {
      "cell_type": "markdown",
      "metadata": {
        "id": "AqulxeiSlvG-"
      },
      "source": [
        "Initially, the value of the first element in <b>B</b> is set as \"hard rock\". If we change the first element in <b>A</b> to <b>\"banana\"</b>, we get an unexpected side effect.  As <b>A</b> and <b>B</b> are referencing the same list, if we change list <b>A</b>, then list <b>B</b> also changes. If we check the first element of <b>B</b> we get \"banana\" instead of \"hard rock\":"
      ]
    },
    {
      "cell_type": "code",
      "metadata": {
        "colab": {
          "base_uri": "https://localhost:8080/"
        },
        "id": "dDYXJJChl17-",
        "outputId": "55cab257-509b-4515-f32f-72c26ea7a13a"
      },
      "source": [
        "A = [\"hard rock\", 10, 1.2]\n",
        "B = A\n",
        "print('A before change:', A)\n",
        "print('B: before change', B)\n",
        "\n",
        "A[0] = \"Banana\"\n",
        "print('A after change:', A)\n",
        "print('B: after change', B)\n"
      ],
      "execution_count": 40,
      "outputs": [
        {
          "output_type": "stream",
          "name": "stdout",
          "text": [
            "A before change: ['hard rock', 10, 1.2]\n",
            "B: before change ['hard rock', 10, 1.2]\n",
            "A after change: ['Banana', 10, 1.2]\n",
            "B: after change ['Banana', 10, 1.2]\n"
          ]
        }
      ]
    },
    {
      "cell_type": "markdown",
      "metadata": {
        "id": "_N8uv3BRmFos"
      },
      "source": [
        "You can clone list **A** by using  the following syntax:\n"
      ]
    },
    {
      "cell_type": "code",
      "metadata": {
        "colab": {
          "base_uri": "https://localhost:8080/"
        },
        "id": "_eQDdqtjmJ5v",
        "outputId": "cb8dd06f-59ca-45b8-b4fe-f6721f0412a3"
      },
      "source": [
        "# Clone (clone by value) the list A\n",
        "\n",
        "A = [\"hard rock\", 10, 1.2]\n",
        "B = A[:] # In this case we are creating a new list with the same variables, so if there are any changes, they will not apply to both lists A and B\n",
        "print('A before change:', A)\n",
        "print('B: before change', B)\n",
        "\n",
        "A[0] = \"Banana\"\n",
        "print('A after change:', A)\n",
        "print('B after change', B)\n"
      ],
      "execution_count": 43,
      "outputs": [
        {
          "output_type": "stream",
          "name": "stdout",
          "text": [
            "A before change: ['hard rock', 10, 1.2]\n",
            "B: before change ['hard rock', 10, 1.2]\n",
            "A after change: ['Banana', 10, 1.2]\n",
            "B after change ['hard rock', 10, 1.2]\n"
          ]
        }
      ]
    },
    {
      "cell_type": "code",
      "metadata": {
        "id": "r0WvLys5nvDj"
      },
      "source": [
        ""
      ],
      "execution_count": null,
      "outputs": []
    },
    {
      "cell_type": "markdown",
      "metadata": {
        "id": "BuBeqepipQ_c"
      },
      "source": [
        "# Hands-ON LAB: Tuples (MODULE 2, LAB 2)"
      ]
    },
    {
      "cell_type": "markdown",
      "metadata": {
        "id": "GofUwu3spbE7"
      },
      "source": [
        "## Tuples"
      ]
    },
    {
      "cell_type": "markdown",
      "metadata": {
        "id": "HgQDm_LYqOcW"
      },
      "source": [
        "In Python, there are different data types: string, integer and floar. These data types can all be contained ina tuple as follows"
      ]
    },
    {
      "cell_type": "code",
      "metadata": {
        "colab": {
          "base_uri": "https://localhost:8080/"
        },
        "id": "zgLxlkzCqXoE",
        "outputId": "be6f3eef-efbc-4973-a051-a8d57e6d5126"
      },
      "source": [
        "# Create your first tuple\n",
        "\n",
        "tuple1 = (\"disco\",10,1.2 )\n",
        "tuple1"
      ],
      "execution_count": 44,
      "outputs": [
        {
          "output_type": "execute_result",
          "data": {
            "text/plain": [
              "('disco', 10, 1.2)"
            ]
          },
          "metadata": {},
          "execution_count": 44
        }
      ]
    },
    {
      "cell_type": "markdown",
      "metadata": {
        "id": "vhnrTEGLqZSs"
      },
      "source": [
        "The type of this variable is **tuple**"
      ]
    },
    {
      "cell_type": "code",
      "metadata": {
        "colab": {
          "base_uri": "https://localhost:8080/"
        },
        "id": "r8S27iJmqfac",
        "outputId": "38f63c64-d786-4ff4-d2bf-3d5c619dd414"
      },
      "source": [
        "# Print the type of the tuple you created\n",
        "\n",
        "type(tuple1)"
      ],
      "execution_count": 48,
      "outputs": [
        {
          "output_type": "execute_result",
          "data": {
            "text/plain": [
              "tuple"
            ]
          },
          "metadata": {},
          "execution_count": 48
        }
      ]
    },
    {
      "cell_type": "markdown",
      "metadata": {
        "id": "QdTv2lEfqkcU"
      },
      "source": [
        "## Indexing"
      ]
    },
    {
      "cell_type": "markdown",
      "metadata": {
        "id": "IWmMJz-6qru7"
      },
      "source": [
        "Each element of a tuple can be accessed via an index. The following table represents the relationship between the index and the items in the tuple. Each element can be obtained by the name of the tuple followed by a square bracket with the index number:\n"
      ]
    },
    {
      "cell_type": "markdown",
      "metadata": {
        "id": "u0nI3x8AqumL"
      },
      "source": [
        "<img src=\"https://cf-courses-data.s3.us.cloud-object-storage.appdomain.cloud/IBMDeveloperSkillsNetwork-PY0101EN-SkillsNetwork/labs/Module%202/images/TuplesIndex.gif\" width=\"750\" align=\"center\">"
      ]
    },
    {
      "cell_type": "markdown",
      "metadata": {
        "id": "eWYMJh2yqycT"
      },
      "source": [
        "We can print out each value in the tuple"
      ]
    },
    {
      "cell_type": "code",
      "metadata": {
        "colab": {
          "base_uri": "https://localhost:8080/"
        },
        "id": "k096g2PAq487",
        "outputId": "99aec53d-8822-48e6-db6a-8a156a227e69"
      },
      "source": [
        "# Print the variable on each index\n",
        "\n",
        "print(tuple1[0])\n",
        "print(tuple1[1])\n",
        "print(tuple1[2])"
      ],
      "execution_count": 53,
      "outputs": [
        {
          "output_type": "stream",
          "name": "stdout",
          "text": [
            "disco\n",
            "10\n",
            "1.2\n"
          ]
        }
      ]
    },
    {
      "cell_type": "markdown",
      "metadata": {
        "id": "Ly9KH8Pyq8tM"
      },
      "source": [
        "We can also print out the **type** of each value in the tuple:"
      ]
    },
    {
      "cell_type": "code",
      "metadata": {
        "colab": {
          "base_uri": "https://localhost:8080/"
        },
        "id": "0ljJbk2XrK_r",
        "outputId": "cc82002e-93b4-4b3c-afc6-0fe71f60d8d6"
      },
      "source": [
        "# Print the type of the value inside the tuple\n",
        "\n",
        "print(type(tuple1[0]))\n",
        "print(type(tuple1[1]))\n",
        "print(type(tuple1[2]))"
      ],
      "execution_count": 54,
      "outputs": [
        {
          "output_type": "stream",
          "name": "stdout",
          "text": [
            "<class 'str'>\n",
            "<class 'int'>\n",
            "<class 'float'>\n"
          ]
        }
      ]
    },
    {
      "cell_type": "markdown",
      "metadata": {
        "id": "xdFfrmvLrVr0"
      },
      "source": [
        "We can also use negative indexing. We use the same table above with corresponding negative values:\n"
      ]
    },
    {
      "cell_type": "markdown",
      "metadata": {
        "id": "Ud7nR4CErYWU"
      },
      "source": [
        "<img src=\"https://cf-courses-data.s3.us.cloud-object-storage.appdomain.cloud/IBMDeveloperSkillsNetwork-PY0101EN-SkillsNetwork/labs/Module%202/images/TuplesNeg.png\" width=\"750\" align=\"center\">"
      ]
    },
    {
      "cell_type": "markdown",
      "metadata": {
        "id": "UwetA_rCraqr"
      },
      "source": [
        "We can obtain the last element as follows (this time we will not use the print statement to display the values):\n"
      ]
    },
    {
      "cell_type": "code",
      "metadata": {
        "colab": {
          "base_uri": "https://localhost:8080/"
        },
        "id": "2qQGnHL7rgXz",
        "outputId": "dcdb57b5-82fb-420f-a549-c25433c8ede5"
      },
      "source": [
        "# Use negative index to get the value of the last element\n",
        "\n",
        "tuple1[-1]"
      ],
      "execution_count": 58,
      "outputs": [
        {
          "output_type": "execute_result",
          "data": {
            "text/plain": [
              "1.2"
            ]
          },
          "metadata": {},
          "execution_count": 58
        }
      ]
    },
    {
      "cell_type": "markdown",
      "metadata": {
        "id": "bpxVUSJ9rh5L"
      },
      "source": [
        "## Concatenate Tuple"
      ]
    },
    {
      "cell_type": "markdown",
      "metadata": {
        "id": "AA2PZFyqry5q"
      },
      "source": [
        "We can concatenate or combine Tuples by using the sign:"
      ]
    },
    {
      "cell_type": "code",
      "metadata": {
        "colab": {
          "base_uri": "https://localhost:8080/"
        },
        "id": "tuedCbb2r4Sq",
        "outputId": "d77ae996-427f-4c7f-83a4-f947140a7ced"
      },
      "source": [
        "# Concatenate two tuples\n",
        "\n",
        "Tuple2 = tuple1 + (\"Sergi\", 5)\n",
        "\n",
        "Tuple2"
      ],
      "execution_count": 61,
      "outputs": [
        {
          "output_type": "execute_result",
          "data": {
            "text/plain": [
              "('disco', 10, 1.2, 'Sergi', 5)"
            ]
          },
          "metadata": {},
          "execution_count": 61
        }
      ]
    },
    {
      "cell_type": "markdown",
      "metadata": {
        "id": "-Ht4vqRNr-gS"
      },
      "source": [
        "We can slice tuples obtaining multiple values"
      ]
    },
    {
      "cell_type": "code",
      "metadata": {
        "colab": {
          "base_uri": "https://localhost:8080/"
        },
        "id": "sgHD3dOssGpi",
        "outputId": "029b46f3-6d4d-4376-a149-6676ab49459a"
      },
      "source": [
        "# Get multiple values\n",
        "\n",
        "Tuple2[3:5]"
      ],
      "execution_count": 63,
      "outputs": [
        {
          "output_type": "execute_result",
          "data": {
            "text/plain": [
              "('Sergi', 5)"
            ]
          },
          "metadata": {},
          "execution_count": 63
        }
      ]
    },
    {
      "cell_type": "markdown",
      "metadata": {
        "id": "1mRcaLeEsIsa"
      },
      "source": [
        "## Slicing"
      ]
    },
    {
      "cell_type": "markdown",
      "metadata": {
        "id": "55e1KQvosWuK"
      },
      "source": [
        "We can slice tuples, obtaining new tuples with the corresponding elements:"
      ]
    },
    {
      "cell_type": "code",
      "metadata": {
        "colab": {
          "base_uri": "https://localhost:8080/"
        },
        "id": "7gbYCi21sczi",
        "outputId": "92b91cf0-8968-4e33-f824-322a4d53e2b3"
      },
      "source": [
        "# Slice from index 0 to index 2\n",
        "\n",
        "Tuple2[0:2]\n"
      ],
      "execution_count": 65,
      "outputs": [
        {
          "output_type": "execute_result",
          "data": {
            "text/plain": [
              "('disco', 10)"
            ]
          },
          "metadata": {},
          "execution_count": 65
        }
      ]
    },
    {
      "cell_type": "markdown",
      "metadata": {
        "id": "C1Q1z-xetCja"
      },
      "source": [
        "We can also obtain the length of a tuple using the **length** command"
      ]
    },
    {
      "cell_type": "code",
      "metadata": {
        "colab": {
          "base_uri": "https://localhost:8080/"
        },
        "id": "2ZKrLcDFtN3y",
        "outputId": "29135499-fc24-4e42-db90-b747b404096a"
      },
      "source": [
        "# Get the length of tuple\n",
        "\n",
        "len(Tuple2)\n"
      ],
      "execution_count": 67,
      "outputs": [
        {
          "output_type": "execute_result",
          "data": {
            "text/plain": [
              "5"
            ]
          },
          "metadata": {},
          "execution_count": 67
        }
      ]
    },
    {
      "cell_type": "markdown",
      "metadata": {
        "id": "WKdLM0GHtQ2D"
      },
      "source": [
        "This figure shows the number of elements:\n"
      ]
    },
    {
      "cell_type": "markdown",
      "metadata": {
        "id": "XUGmTR0QtVo6"
      },
      "source": [
        "<img src=\"https://cf-courses-data.s3.us.cloud-object-storage.appdomain.cloud/IBMDeveloperSkillsNetwork-PY0101EN-SkillsNetwork/labs/Module%202/images/TuplesElement.png\" width=\"750\" align=\"center\">\n"
      ]
    },
    {
      "cell_type": "markdown",
      "metadata": {
        "id": "E_GZOOfCtXai"
      },
      "source": [
        "## Sorting"
      ]
    },
    {
      "cell_type": "markdown",
      "metadata": {
        "id": "NIxZXZuStcGb"
      },
      "source": [
        "Consider the following tuple"
      ]
    },
    {
      "cell_type": "code",
      "metadata": {
        "id": "LlD8MgjlteXC"
      },
      "source": [
        "# A sample tuple\n",
        "\n",
        "Ratings = (0, 9, 6, 5, 10, 8, 9, 6, 2)"
      ],
      "execution_count": 68,
      "outputs": []
    },
    {
      "cell_type": "markdown",
      "metadata": {
        "id": "6hOz03N7tfz7"
      },
      "source": [
        "We can sort the values in a tuple and save it to a new tuple:\n"
      ]
    },
    {
      "cell_type": "code",
      "metadata": {
        "colab": {
          "base_uri": "https://localhost:8080/"
        },
        "id": "DogbEk2qtipb",
        "outputId": "96e24788-909b-4725-a64c-7f25deddc598"
      },
      "source": [
        "# Sort the Tuple\n",
        "\n",
        "RatingSorted = sorted(Ratings)\n",
        "RatingSorted"
      ],
      "execution_count": 70,
      "outputs": [
        {
          "output_type": "execute_result",
          "data": {
            "text/plain": [
              "[0, 2, 5, 6, 6, 8, 9, 9, 10]"
            ]
          },
          "metadata": {},
          "execution_count": 70
        }
      ]
    },
    {
      "cell_type": "markdown",
      "metadata": {
        "id": "k4y5oi8ftozK"
      },
      "source": [
        "## Nested Tuple"
      ]
    },
    {
      "cell_type": "markdown",
      "metadata": {
        "id": "-IzAXG9muXpa"
      },
      "source": [
        "A tuple can contain another tuple as wess as other more complex data types. This process is called \"nesting\". Consider the following tuple with several element:"
      ]
    },
    {
      "cell_type": "code",
      "metadata": {
        "colab": {
          "base_uri": "https://localhost:8080/"
        },
        "id": "jTWsx_-suiIi",
        "outputId": "24271f96-addc-4a52-a4c7-e038f8baea38"
      },
      "source": [
        "#Create a nest tuple\n",
        "\n",
        "NT= (1,2,3,Ratings,(\"pop\", \"Rock\"), (3,4))\n",
        "NT"
      ],
      "execution_count": 74,
      "outputs": [
        {
          "output_type": "execute_result",
          "data": {
            "text/plain": [
              "(1, 2, 3, (0, 9, 6, 5, 10, 8, 9, 6, 2), ('pop', 'Rock'), (3, 4))"
            ]
          },
          "metadata": {},
          "execution_count": 74
        }
      ]
    },
    {
      "cell_type": "markdown",
      "metadata": {
        "id": "pfWwOjlxuo8K"
      },
      "source": [
        "Each element in the tuple, including other tuples, can be obtained via an index as shown in the figure:"
      ]
    },
    {
      "cell_type": "markdown",
      "metadata": {
        "id": "AXcTOQ4BvAUC"
      },
      "source": [
        "<img src=\"https://cf-courses-data.s3.us.cloud-object-storage.appdomain.cloud/IBMDeveloperSkillsNetwork-PY0101EN-SkillsNetwork/labs/Module%202/images/TuplesNestOne.png\" width=\"750\" align=\"center\">\n"
      ]
    },
    {
      "cell_type": "code",
      "metadata": {
        "colab": {
          "base_uri": "https://localhost:8080/"
        },
        "id": "D2Ew8NXOvDFQ",
        "outputId": "6d320416-bd9f-4e7a-8990-5204225a17d8"
      },
      "source": [
        "# Print element on each index\n",
        "\n",
        "print(\"Element 0 of Tuple: \", NT[0])\n",
        "print(\"Element 1 of Tuple: \", NT[1])\n",
        "print(\"Element 2 of Tuple: \", NT[2])\n",
        "print(\"Element 3 of Tuple: \", NT[3])\n",
        "print(\"Element 4 of Tuple: \", NT[4])\n",
        "print(\"Element 5 of Tuple: \", NT[5])"
      ],
      "execution_count": 77,
      "outputs": [
        {
          "output_type": "stream",
          "name": "stdout",
          "text": [
            "Element 0 of Tuple:  1\n",
            "Element 1 of Tuple:  2\n",
            "Element 2 of Tuple:  3\n",
            "Element 3 of Tuple:  (0, 9, 6, 5, 10, 8, 9, 6, 2)\n",
            "Element 4 of Tuple:  ('pop', 'Rock')\n",
            "Element 5 of Tuple:  (3, 4)\n"
          ]
        }
      ]
    },
    {
      "cell_type": "markdown",
      "metadata": {
        "id": "FoB1uUpSvKYJ"
      },
      "source": [
        "We can use the second index to access other tuples as demonstrated in the figure:\n"
      ]
    },
    {
      "cell_type": "markdown",
      "metadata": {
        "id": "ZmiESIYWvcY6"
      },
      "source": [
        "<img src=\"https://cf-courses-data.s3.us.cloud-object-storage.appdomain.cloud/IBMDeveloperSkillsNetwork-PY0101EN-SkillsNetwork/labs/Module%202/images/TuplesNestTwo.png\" width=\"750\" align=\"center\">\n"
      ]
    },
    {
      "cell_type": "code",
      "metadata": {
        "colab": {
          "base_uri": "https://localhost:8080/"
        },
        "id": "gkYLle2Jvfhx",
        "outputId": "243eff53-0291-40b0-d4f3-80584c794ed9"
      },
      "source": [
        "# Print element on each index, including nest indexes\n",
        "\n",
        "print(\"Element 1 in tuple 3:\", NT[3][1])\n",
        "print(\"Element 0 in tuple 3:\", NT[3][0])"
      ],
      "execution_count": 82,
      "outputs": [
        {
          "output_type": "stream",
          "name": "stdout",
          "text": [
            "Element 1 in tuple 3: 9\n",
            "Element 0 in tuple 3: 0\n"
          ]
        }
      ]
    },
    {
      "cell_type": "markdown",
      "metadata": {
        "id": "nSTZbzs-vsrQ"
      },
      "source": [
        "We can access strings in the second nested tuples using a third index:\n",
        "\n"
      ]
    },
    {
      "cell_type": "code",
      "metadata": {
        "colab": {
          "base_uri": "https://localhost:8080/"
        },
        "id": "SfVfL71QwE3C",
        "outputId": "d9a12c91-8fd1-4916-9f6b-055eab2c875a"
      },
      "source": [
        "#Print elements in a third degree tuple:\n",
        "\n",
        "Nested = (1.1,(2.1,2.2,(3.1,3.2)))\n",
        "\n",
        "print(\"first element in the third degree tuple:\", Nested[1][2][0])"
      ],
      "execution_count": 84,
      "outputs": [
        {
          "output_type": "stream",
          "name": "stdout",
          "text": [
            "first element in the third degree tuple: 3.1\n"
          ]
        }
      ]
    },
    {
      "cell_type": "markdown",
      "metadata": {
        "id": "AeWVIu99wubR"
      },
      "source": [
        "We can use a tree to visualise the process. Each new index corresponds to a deeper level in the tree:\n"
      ]
    },
    {
      "cell_type": "markdown",
      "metadata": {
        "id": "5eHrGtHxw_AR"
      },
      "source": [
        "<img src=\"https://cf-courses-data.s3.us.cloud-object-storage.appdomain.cloud/IBMDeveloperSkillsNetwork-PY0101EN-SkillsNetwork/labs/Module%202/images/TuplesNestFour.gif\" width=\"750\" align=\"center\">"
      ]
    },
    {
      "cell_type": "code",
      "metadata": {
        "id": "H_xjVZRWxB1P"
      },
      "source": [
        ""
      ],
      "execution_count": null,
      "outputs": []
    },
    {
      "cell_type": "markdown",
      "metadata": {
        "id": "MmQq52Pthkyc"
      },
      "source": [
        "# Hands-ON LAB: Dictionarie in Python (MODULE 2, LAB 3)"
      ]
    },
    {
      "cell_type": "markdown",
      "metadata": {
        "id": "qwXTz4hfhqYT"
      },
      "source": [
        "\n",
        "## Dictionaries"
      ]
    },
    {
      "cell_type": "markdown",
      "metadata": {
        "id": "cbCa2-7ChtbT"
      },
      "source": [
        "What are Dictionaries?"
      ]
    },
    {
      "cell_type": "markdown",
      "metadata": {
        "id": "EEY2uDszhxML"
      },
      "source": [
        "A dictionary consists of keys and values. It is helpful to compare a dictionary to a list. Instead of beig indexed numerically like a list, Dictionaries have keys. These keys are the keys thare are used to access values within a dictionary"
      ]
    },
    {
      "cell_type": "markdown",
      "metadata": {
        "id": "Cxa56095iGpT"
      },
      "source": [
        "<img src=\"https://cf-courses-data.s3.us.cloud-object-storage.appdomain.cloud/IBMDeveloperSkillsNetwork-PY0101EN-SkillsNetwork/labs/Module%202/images/DictsList.png\" width=\"650\" />\n"
      ]
    },
    {
      "cell_type": "markdown",
      "metadata": {
        "id": "pxW5Z7CWiJQS"
      },
      "source": [
        "An example of a Dictionary <code>Dict</code>:\n"
      ]
    },
    {
      "cell_type": "code",
      "metadata": {
        "colab": {
          "base_uri": "https://localhost:8080/"
        },
        "id": "4n5RpkpCiNSS",
        "outputId": "061d6477-a236-483e-8dd9-93107e5a2021"
      },
      "source": [
        "# Create the dictionary\n",
        "\n",
        "Dict = {\"key1\": 1, \"key2\": \"2\", \"key3\": [3, 3, 3], \"key4\": (4, 4, 4), ('key5'): 5, (0, 1): 6}\n",
        "print(Dict)\n",
        "\n",
        "Dict2 = {\"Sergi\" : 24, \"Dani Pare\" : 55, \"Lourdes\" :51, \"Dani fill\" : 28}\n",
        "print(Dict2)\n"
      ],
      "execution_count": 3,
      "outputs": [
        {
          "output_type": "stream",
          "name": "stdout",
          "text": [
            "{'key1': 1, 'key2': '2', 'key3': [3, 3, 3], 'key4': (4, 4, 4), 'key5': 5, (0, 1): 6}\n",
            "{'Sergi': 24, 'Dani Pare': 55, 'Lourdes': 51, 'Dani fill': 28}\n"
          ]
        }
      ]
    },
    {
      "cell_type": "markdown",
      "metadata": {
        "id": "uxYytS-eigwy"
      },
      "source": [
        "The keys can be strings:\n"
      ]
    },
    {
      "cell_type": "code",
      "metadata": {
        "colab": {
          "base_uri": "https://localhost:8080/"
        },
        "id": "Rt-0GqKliuV7",
        "outputId": "486c65f0-3173-4960-a9e9-717fd823df95"
      },
      "source": [
        "#Access to the value by the key\n",
        "\n",
        "Dict2[\"Sergi\"]"
      ],
      "execution_count": 5,
      "outputs": [
        {
          "output_type": "execute_result",
          "data": {
            "text/plain": [
              "24"
            ]
          },
          "metadata": {},
          "execution_count": 5
        }
      ]
    },
    {
      "cell_type": "markdown",
      "metadata": {
        "id": "dvHd3he-iz4a"
      },
      "source": [
        "Keys can also be any immutable object such as a tuple:\n"
      ]
    },
    {
      "cell_type": "code",
      "metadata": {
        "colab": {
          "base_uri": "https://localhost:8080/"
        },
        "id": "fvilHY1Xi61L",
        "outputId": "4429c56b-9c76-4eb3-bde4-e5ba8e44b1f9"
      },
      "source": [
        "# Access to the value by the key\n",
        "\n",
        "Dict[(0, 1)] #In this case, the key is a tupla as we can see in the definition of Dictionari \"Dict\""
      ],
      "execution_count": 9,
      "outputs": [
        {
          "output_type": "execute_result",
          "data": {
            "text/plain": [
              "6"
            ]
          },
          "metadata": {},
          "execution_count": 9
        }
      ]
    },
    {
      "cell_type": "markdown",
      "metadata": {
        "id": "oAkd2ehYi8ZK"
      },
      "source": [
        "Each key is separated from its value by a colon \"<code>:</code>\".  Commas separate the items, and the whole dictionary is enclosed in curly braces. An empty dictionary without any items is written with just two curly braces, like this  \"<code>{}</code>\".\n"
      ]
    },
    {
      "cell_type": "code",
      "metadata": {
        "colab": {
          "base_uri": "https://localhost:8080/"
        },
        "id": "_03eBoiajcbZ",
        "outputId": "d806f229-c7bd-4390-9f3b-3ee92580bb50"
      },
      "source": [
        "# Create a sample dictionary\n",
        "\n",
        "release_year_dict = {\"Thriller\": \"1982\", \"Back in Black\": \"1980\", \\\n",
        "                    \"The Dark Side of the Moon\": \"1973\", \"The Bodyguard\": \"1992\", \\\n",
        "                    \"Bat Out of Hell\": \"1977\", \"Their Greatest Hits (1971-1975)\": \"1976\", \\\n",
        "                    \"Saturday Night Fever\": \"1977\", \"Rumours\": \"1977\"}\n",
        "release_year_dict"
      ],
      "execution_count": 10,
      "outputs": [
        {
          "output_type": "execute_result",
          "data": {
            "text/plain": [
              "{'Back in Black': '1980',\n",
              " 'Bat Out of Hell': '1977',\n",
              " 'Rumours': '1977',\n",
              " 'Saturday Night Fever': '1977',\n",
              " 'The Bodyguard': '1992',\n",
              " 'The Dark Side of the Moon': '1973',\n",
              " 'Their Greatest Hits (1971-1975)': '1976',\n",
              " 'Thriller': '1982'}"
            ]
          },
          "metadata": {},
          "execution_count": 10
        }
      ]
    },
    {
      "cell_type": "markdown",
      "metadata": {
        "id": "EdLqvKZ0jfti"
      },
      "source": [
        "In summary, like a list, a dictionary holds a sequence of elements. Each element is represented by a key and its corresponding value. Dictionaries are created with two curly braces containing keys and values separated by a colon. For every key, there can only be one single value, however,  multiple keys can hold the same value. Keys can only be strings, numbers, or tuples, but values can be any data type.\n"
      ]
    },
    {
      "cell_type": "markdown",
      "metadata": {
        "id": "Wan7LUMWjq4z"
      },
      "source": [
        "It is helpful to visualize the dictionary as a table, as in the following image. The first column represents the keys, the second column represents the values.\n"
      ]
    },
    {
      "cell_type": "markdown",
      "metadata": {
        "id": "cWezLh48jtVi"
      },
      "source": [
        "<img src=\"https://cf-courses-data.s3.us.cloud-object-storage.appdomain.cloud/IBMDeveloperSkillsNetwork-PY0101EN-SkillsNetwork/labs/Module%202/images/DictsStructure.png\" width=\"650\" />"
      ]
    },
    {
      "cell_type": "markdown",
      "metadata": {
        "id": "o-YAtdHQjyqy"
      },
      "source": [
        "## Keys"
      ]
    },
    {
      "cell_type": "markdown",
      "metadata": {
        "id": "E0HcOUkoj0y6"
      },
      "source": [
        "You can retrieve the values based on the names"
      ]
    },
    {
      "cell_type": "code",
      "metadata": {
        "colab": {
          "base_uri": "https://localhost:8080/",
          "height": 36
        },
        "id": "1_y-043Oj50y",
        "outputId": "92e87862-a62e-40fe-b264-504177235a80"
      },
      "source": [
        "#Get value by keys\n",
        "\n",
        "release_year_dict[\"Thriller\"]"
      ],
      "execution_count": 13,
      "outputs": [
        {
          "output_type": "execute_result",
          "data": {
            "application/vnd.google.colaboratory.intrinsic+json": {
              "type": "string"
            },
            "text/plain": [
              "'1982'"
            ]
          },
          "metadata": {},
          "execution_count": 13
        }
      ]
    },
    {
      "cell_type": "markdown",
      "metadata": {
        "id": "skk-ET4VkBcC"
      },
      "source": [
        "Now let us retrieve the keys of the dictionary using the method <code>keys()</code>:\n"
      ]
    },
    {
      "cell_type": "code",
      "metadata": {
        "colab": {
          "base_uri": "https://localhost:8080/"
        },
        "id": "roovA8IGkLWy",
        "outputId": "60067fe3-3a76-48c9-cab6-e524cd29f14f"
      },
      "source": [
        "# Get all the keys in dictionary\n",
        "\n",
        "release_year_dict.keys()"
      ],
      "execution_count": 23,
      "outputs": [
        {
          "output_type": "execute_result",
          "data": {
            "text/plain": [
              "dict_keys(['Thriller', 'Back in Black', 'The Dark Side of the Moon', 'The Bodyguard', 'Bat Out of Hell', 'Their Greatest Hits (1971-1975)', 'Saturday Night Fever', 'Rumours'])"
            ]
          },
          "metadata": {},
          "execution_count": 23
        }
      ]
    },
    {
      "cell_type": "markdown",
      "metadata": {
        "id": "K_1F1uB5kPtK"
      },
      "source": [
        "We can add an entry:\n"
      ]
    },
    {
      "cell_type": "code",
      "metadata": {
        "colab": {
          "base_uri": "https://localhost:8080/"
        },
        "id": "SySwi2B2kqab",
        "outputId": "646f256a-79ba-4ed3-9d90-068d767a363e"
      },
      "source": [
        "# Append value with key into dictionary\n",
        "\n",
        "release_year_dict[\"Warriors\"] = \"2017\"\n",
        "release_year_dict"
      ],
      "execution_count": 24,
      "outputs": [
        {
          "output_type": "execute_result",
          "data": {
            "text/plain": [
              "{'Back in Black': '1980',\n",
              " 'Bat Out of Hell': '1977',\n",
              " 'Rumours': '1977',\n",
              " 'Saturday Night Fever': '1977',\n",
              " 'The Bodyguard': '1992',\n",
              " 'The Dark Side of the Moon': '1973',\n",
              " 'Their Greatest Hits (1971-1975)': '1976',\n",
              " 'Thriller': '1982',\n",
              " 'Warriors': '2017'}"
            ]
          },
          "metadata": {},
          "execution_count": 24
        }
      ]
    },
    {
      "cell_type": "markdown",
      "metadata": {
        "id": "glYynTqZk1n5"
      },
      "source": [
        "We can also delete an entry"
      ]
    },
    {
      "cell_type": "code",
      "metadata": {
        "colab": {
          "base_uri": "https://localhost:8080/"
        },
        "id": "n-pMRJRjlDQK",
        "outputId": "ebdc4d53-8f41-4746-b3f6-4a9d8222a107"
      },
      "source": [
        "# Delete entries by key\n",
        "\n",
        "release_year_dict[\"Thriller\"] = \"1989\" # We put this line to add it so we won't get any key error\n",
        "\n",
        "del(release_year_dict[\"Thriller\"]) # We use this formula to delete the key we previously added\n",
        "release_year_dict"
      ],
      "execution_count": 27,
      "outputs": [
        {
          "output_type": "execute_result",
          "data": {
            "text/plain": [
              "{'Back in Black': '1980',\n",
              " 'Bat Out of Hell': '1977',\n",
              " 'Rumours': '1977',\n",
              " 'Saturday Night Fever': '1977',\n",
              " 'The Bodyguard': '1992',\n",
              " 'The Dark Side of the Moon': '1973',\n",
              " 'Their Greatest Hits (1971-1975)': '1976',\n",
              " 'Warriors': '2017'}"
            ]
          },
          "metadata": {},
          "execution_count": 27
        }
      ]
    },
    {
      "cell_type": "markdown",
      "metadata": {
        "id": "kJozYoxwlKbp"
      },
      "source": [
        "We can verify if an element is in the dictionary:\n"
      ]
    },
    {
      "cell_type": "code",
      "metadata": {
        "colab": {
          "base_uri": "https://localhost:8080/"
        },
        "id": "Jb5xothLlmSK",
        "outputId": "0bf95e6c-5298-4de2-b731-7450d23877b4"
      },
      "source": [
        "#Verify the key is in the dictionary\n",
        "\n",
        "\"Warriors\" in release_year_dict #if it is in the dictionary it will return us a TRUE, if not, it will return us a \"false\""
      ],
      "execution_count": 30,
      "outputs": [
        {
          "output_type": "execute_result",
          "data": {
            "text/plain": [
              "True"
            ]
          },
          "metadata": {},
          "execution_count": 30
        }
      ]
    },
    {
      "cell_type": "markdown",
      "metadata": {
        "id": "4tSvoLrYlpup"
      },
      "source": [
        "# Hands-ON LAB: Sets in Pyton (MODULE 2, LAB 4)"
      ]
    },
    {
      "cell_type": "markdown",
      "metadata": {
        "id": "CfqL4eErZ2Lk"
      },
      "source": [
        "## Sets"
      ]
    },
    {
      "cell_type": "markdown",
      "metadata": {
        "id": "_cTn-92xZ48b"
      },
      "source": [
        "A set is a unique collection of objects in Python. You can denote a set with a pair of curly brackets{}. Python will automatically remove duplicate items:"
      ]
    },
    {
      "cell_type": "code",
      "metadata": {
        "colab": {
          "base_uri": "https://localhost:8080/"
        },
        "id": "lcp7lKy_aFq7",
        "outputId": "01f53251-afd0-4941-c0f5-c4360e9789ff"
      },
      "source": [
        "# Create a set\n",
        "\n",
        "set1 = {\"pop\", \"rock\", \"soul\", \"hard rock\", \"rock\", \"R&B\", \"rock\", \"disco\"}\n",
        "set1"
      ],
      "execution_count": 2,
      "outputs": [
        {
          "output_type": "execute_result",
          "data": {
            "text/plain": [
              "{'R&B', 'disco', 'hard rock', 'pop', 'rock', 'soul'}"
            ]
          },
          "metadata": {},
          "execution_count": 2
        }
      ]
    },
    {
      "cell_type": "markdown",
      "metadata": {
        "id": "8ZmTCB4kaHJx"
      },
      "source": [
        "<img src=\"https://cf-courses-data.s3.us.cloud-object-storage.appdomain.cloud/IBMDeveloperSkillsNetwork-PY0101EN-SkillsNetwork/labs/Module%202/images/SetsUnique.png\" width=\"1100\" />"
      ]
    },
    {
      "cell_type": "markdown",
      "metadata": {
        "id": "Bxi9NyrYaLh7"
      },
      "source": [
        "You can also create a set from a list as follows:"
      ]
    },
    {
      "cell_type": "code",
      "metadata": {
        "colab": {
          "base_uri": "https://localhost:8080/"
        },
        "id": "FdpzOLt2aQEK",
        "outputId": "d2b82490-7112-40f2-83c9-8fda7b1c15bd"
      },
      "source": [
        "# Convert list to set\n",
        "\n",
        "album_list = [ \"Michael Jackson\", \"Thriller\", 1982, \"00:42:19\", \\\n",
        "              \"Pop, Rock, R&B\", 46.0, 65, \"30-Nov-82\", None, 10.0]\n",
        "\n",
        "album_set = set(album_list)\n",
        "\n",
        "album_set"
      ],
      "execution_count": 3,
      "outputs": [
        {
          "output_type": "execute_result",
          "data": {
            "text/plain": [
              "{'00:42:19',\n",
              " 10.0,\n",
              " 1982,\n",
              " '30-Nov-82',\n",
              " 46.0,\n",
              " 65,\n",
              " 'Michael Jackson',\n",
              " None,\n",
              " 'Pop, Rock, R&B',\n",
              " 'Thriller'}"
            ]
          },
          "metadata": {},
          "execution_count": 3
        }
      ]
    },
    {
      "cell_type": "markdown",
      "metadata": {
        "id": "hs77vZBLaXQh"
      },
      "source": [
        "Now let us create a set of  genres:\n"
      ]
    },
    {
      "cell_type": "code",
      "metadata": {
        "colab": {
          "base_uri": "https://localhost:8080/"
        },
        "id": "wN1JPNHdacMT",
        "outputId": "b82975b8-30ae-4663-ae5a-cc2d7853c536"
      },
      "source": [
        "# Convert list to set\n",
        "\n",
        "music_genres = set([\"pop\", \"pop\", \"rock\", \"folk rock\", \"hard rock\", \"soul\", \\\n",
        "                    \"progressive rock\", \"soft rock\", \"R&B\", \"disco\"])\n",
        "music_genres"
      ],
      "execution_count": 4,
      "outputs": [
        {
          "output_type": "execute_result",
          "data": {
            "text/plain": [
              "{'R&B',\n",
              " 'disco',\n",
              " 'folk rock',\n",
              " 'hard rock',\n",
              " 'pop',\n",
              " 'progressive rock',\n",
              " 'rock',\n",
              " 'soft rock',\n",
              " 'soul'}"
            ]
          },
          "metadata": {},
          "execution_count": 4
        }
      ]
    },
    {
      "cell_type": "markdown",
      "metadata": {
        "id": "DWLe7qucadxB"
      },
      "source": [
        "##Set Opreations"
      ]
    },
    {
      "cell_type": "markdown",
      "metadata": {
        "id": "ggnkoFaxanjb"
      },
      "source": [
        "Let us go over set operations, as these can be used to change the set. Consider the set <b>A</b>:\n",
        "\n"
      ]
    },
    {
      "cell_type": "code",
      "metadata": {
        "colab": {
          "base_uri": "https://localhost:8080/"
        },
        "id": "hVcQ7CgZaunr",
        "outputId": "a4911798-1f78-46d8-e276-0ea5a526165d"
      },
      "source": [
        "# Sample set\n",
        "\n",
        "A = set([\"Thriller\", \"Back in Black\", \"AC/DC\"])\n",
        "A"
      ],
      "execution_count": 5,
      "outputs": [
        {
          "output_type": "execute_result",
          "data": {
            "text/plain": [
              "{'AC/DC', 'Back in Black', 'Thriller'}"
            ]
          },
          "metadata": {},
          "execution_count": 5
        }
      ]
    },
    {
      "cell_type": "markdown",
      "metadata": {
        "id": "9B5bwC9bavfo"
      },
      "source": [
        "We can add an element to a set using the <code>add()</code> method:\n"
      ]
    },
    {
      "cell_type": "code",
      "metadata": {
        "colab": {
          "base_uri": "https://localhost:8080/"
        },
        "id": "Y7L7QAY0ay2b",
        "outputId": "34ee5df1-fcd2-4714-955e-a8c43f7270cb"
      },
      "source": [
        "# Add an element to the set\n",
        "\n",
        "A.add(\"NSYNC\")\n",
        "A"
      ],
      "execution_count": 7,
      "outputs": [
        {
          "output_type": "execute_result",
          "data": {
            "text/plain": [
              "{'AC/DC', 'Back in Black', 'NSYNC', 'Thriller'}"
            ]
          },
          "metadata": {},
          "execution_count": 7
        }
      ]
    },
    {
      "cell_type": "markdown",
      "metadata": {
        "id": "UZjOG6SPa4rB"
      },
      "source": [
        "If we add the same element twice, nothing will happen as there can be no duplicates in a set:\n"
      ]
    },
    {
      "cell_type": "code",
      "metadata": {
        "colab": {
          "base_uri": "https://localhost:8080/"
        },
        "id": "xSuIlFHSbAOL",
        "outputId": "9d7b86cb-1aab-4eda-8f3e-51327d17ae26"
      },
      "source": [
        "# Try to add duplicate element to the set\n",
        "\n",
        "A.add(\"NSYNC\")\n",
        "A"
      ],
      "execution_count": 11,
      "outputs": [
        {
          "output_type": "execute_result",
          "data": {
            "text/plain": [
              "{'AC/DC', 'Back in Black', 'NSYNC', 'Thriller'}"
            ]
          },
          "metadata": {},
          "execution_count": 11
        }
      ]
    },
    {
      "cell_type": "markdown",
      "metadata": {
        "id": "-fwHE4GpbBfh"
      },
      "source": [
        "We can remove an item from a set using the <code>remove</code> method:\n"
      ]
    },
    {
      "cell_type": "code",
      "metadata": {
        "colab": {
          "base_uri": "https://localhost:8080/"
        },
        "id": "3fW5AYACbFzb",
        "outputId": "216bd0b3-6e3b-4c4e-83cc-ad93f726c660"
      },
      "source": [
        "#Remove an element from the list\n",
        "\n",
        "A.remove(\"NSYNC\")\n",
        "\n",
        "A"
      ],
      "execution_count": 12,
      "outputs": [
        {
          "output_type": "execute_result",
          "data": {
            "text/plain": [
              "{'AC/DC', 'Back in Black', 'Thriller'}"
            ]
          },
          "metadata": {},
          "execution_count": 12
        }
      ]
    },
    {
      "cell_type": "markdown",
      "metadata": {
        "id": "xJwIqFikbIZI"
      },
      "source": [
        "We can verify if an element is in the set using the **in** command"
      ]
    },
    {
      "cell_type": "code",
      "metadata": {
        "colab": {
          "base_uri": "https://localhost:8080/"
        },
        "id": "5W44BAgibWjL",
        "outputId": "14be3a18-9cbf-47b3-e08c-d94e772cd47a"
      },
      "source": [
        "# Verify if an element is in the list\n",
        "\n",
        "\"AC/DC\" in A"
      ],
      "execution_count": 13,
      "outputs": [
        {
          "output_type": "execute_result",
          "data": {
            "text/plain": [
              "True"
            ]
          },
          "metadata": {},
          "execution_count": 13
        }
      ]
    },
    {
      "cell_type": "markdown",
      "metadata": {
        "id": "9S-a52lcbbig"
      },
      "source": [
        "## Sets Logic Operations"
      ]
    },
    {
      "cell_type": "markdown",
      "metadata": {
        "id": "rZTjNjIqbgUI"
      },
      "source": [
        "Remember that with sets you can check the difference between sets, as well as the symmetric difference, intersection, and union:\n"
      ]
    },
    {
      "cell_type": "markdown",
      "metadata": {
        "id": "0Yr7cqVybuYS"
      },
      "source": [
        "Consider the following two sets:\n"
      ]
    },
    {
      "cell_type": "code",
      "metadata": {
        "id": "ifRIt_ZbbymC"
      },
      "source": [
        "# Sample Sets\n",
        "\n",
        "album_set1 = set([\"Thriller\", 'AC/DC', 'Back in Black'])\n",
        "album_set2 = set([ \"AC/DC\", \"Back in Black\", \"The Dark Side of the Moon\"])"
      ],
      "execution_count": 15,
      "outputs": []
    },
    {
      "cell_type": "markdown",
      "metadata": {
        "id": "kfl4O5Ayb0Oo"
      },
      "source": [
        "<img src=\"https://cf-courses-data.s3.us.cloud-object-storage.appdomain.cloud/IBMDeveloperSkillsNetwork-PY0101EN-SkillsNetwork/labs/Module%202/images/SetsSamples.png\" width=\"650\" />\n"
      ]
    },
    {
      "cell_type": "code",
      "metadata": {
        "colab": {
          "base_uri": "https://localhost:8080/"
        },
        "id": "Kr3t17wMb2qK",
        "outputId": "913a2bc2-a1a3-4af5-c7c3-23dbfb36f367"
      },
      "source": [
        "# Print two sets\n",
        "\n",
        "album_set1, album_set2"
      ],
      "execution_count": 16,
      "outputs": [
        {
          "output_type": "execute_result",
          "data": {
            "text/plain": [
              "({'AC/DC', 'Back in Black', 'Thriller'},\n",
              " {'AC/DC', 'Back in Black', 'The Dark Side of the Moon'})"
            ]
          },
          "metadata": {},
          "execution_count": 16
        }
      ]
    },
    {
      "cell_type": "markdown",
      "metadata": {
        "id": "5GUY-hyvb4mQ"
      },
      "source": [
        "As both sets contain <b>AC/DC</b> and <b>Back in Black</b> we represent these common elements with the intersection of two circles.\n"
      ]
    },
    {
      "cell_type": "markdown",
      "metadata": {
        "id": "3P63BX43b7f1"
      },
      "source": [
        "<img src = \"https://cf-courses-data.s3.us.cloud-object-storage.appdomain.cloud/IBMDeveloperSkillsNetwork-PY0101EN-SkillsNetwork/labs/Module%202/images/SetsLogic.png\" width = \"650\" />"
      ]
    },
    {
      "cell_type": "markdown",
      "metadata": {
        "id": "-RsvqPntb_hM"
      },
      "source": [
        "You can find the intersect of two sets as follow using <code>&</code>:\n"
      ]
    },
    {
      "cell_type": "code",
      "metadata": {
        "colab": {
          "base_uri": "https://localhost:8080/"
        },
        "id": "0ohFR-MccBdq",
        "outputId": "5f2e65c7-88fc-4c79-fd95-68e5b99dc19b"
      },
      "source": [
        "# Find the intersection\n",
        "\n",
        "intersection = album_set1 & album_set2\n",
        "intersection\n"
      ],
      "execution_count": 20,
      "outputs": [
        {
          "output_type": "execute_result",
          "data": {
            "text/plain": [
              "{'AC/DC', 'Back in Black'}"
            ]
          },
          "metadata": {},
          "execution_count": 20
        }
      ]
    },
    {
      "cell_type": "markdown",
      "metadata": {
        "id": "ZNrOo9gvcD25"
      },
      "source": [
        "You can find all the elements that are only contained in <code>album_set1</code> using the <code>difference</code> method:\n"
      ]
    },
    {
      "cell_type": "code",
      "metadata": {
        "colab": {
          "base_uri": "https://localhost:8080/"
        },
        "id": "FOWDSbq0c6oy",
        "outputId": "076a4bff-e4b6-4d0d-a62a-2fa8ad67e41b"
      },
      "source": [
        "# find the difference in set1 but not set2\n",
        "\n",
        "album_set1.difference(album_set2)  "
      ],
      "execution_count": 22,
      "outputs": [
        {
          "output_type": "execute_result",
          "data": {
            "text/plain": [
              "{'Thriller'}"
            ]
          },
          "metadata": {},
          "execution_count": 22
        }
      ]
    },
    {
      "cell_type": "markdown",
      "metadata": {
        "id": "h8yGElaPc_XY"
      },
      "source": [
        "You only need to consider elements in <code>album_set1</code>; all the elements in <code>album_set2</code>, including the intersection, are not included.\n"
      ]
    },
    {
      "cell_type": "markdown",
      "metadata": {
        "id": "2Dn6xyTqdGRx"
      },
      "source": [
        "<img src=\"https://cf-courses-data.s3.us.cloud-object-storage.appdomain.cloud/IBMDeveloperSkillsNetwork-PY0101EN-SkillsNetwork/labs/Module%202/images/SetsLeft.png\" width=\"650\" />"
      ]
    },
    {
      "cell_type": "markdown",
      "metadata": {
        "id": "yoSvQx6ydJOq"
      },
      "source": [
        "The elements in album_set2 but not in album_set1 is given by:"
      ]
    },
    {
      "cell_type": "markdown",
      "metadata": {
        "id": "haD7aGhkdMVB"
      },
      "source": [
        "<img src = \"https://cf-courses-data.s3.us.cloud-object-storage.appdomain.cloud/IBMDeveloperSkillsNetwork-PY0101EN-SkillsNetwork/labs/Module%202/images/SetsRight.png\" width=\"650\" />\n"
      ]
    },
    {
      "cell_type": "markdown",
      "metadata": {
        "id": "IzCCrj6-dQKS"
      },
      "source": [
        "You can also find the intersection of album_list1 and album_list2, using the intersection method:"
      ]
    },
    {
      "cell_type": "code",
      "metadata": {
        "colab": {
          "base_uri": "https://localhost:8080/"
        },
        "id": "ItZkbrnLdWfs",
        "outputId": "8aa74cfb-3af1-400a-80a5-8105a95cba41"
      },
      "source": [
        "# Use intersection method to find the intersection of album_list1 and album_list2\n",
        "\n",
        "album_set1.intersection(album_set2)"
      ],
      "execution_count": 23,
      "outputs": [
        {
          "output_type": "execute_result",
          "data": {
            "text/plain": [
              "{'AC/DC', 'Back in Black'}"
            ]
          },
          "metadata": {},
          "execution_count": 23
        }
      ]
    },
    {
      "cell_type": "markdown",
      "metadata": {
        "id": "lzYHXpJMdd73"
      },
      "source": [
        "This corresponds to the intersection of the two circles:\n"
      ]
    },
    {
      "cell_type": "markdown",
      "metadata": {
        "id": "pI387su8djM5"
      },
      "source": [
        "<img src=\"https://cf-courses-data.s3.us.cloud-object-storage.appdomain.cloud/IBMDeveloperSkillsNetwork-PY0101EN-SkillsNetwork/labs/Module%202/images/SetsIntersect.png\" width=\"650\" />\n"
      ]
    },
    {
      "cell_type": "markdown",
      "metadata": {
        "id": "1DVjrVSqdlfp"
      },
      "source": [
        "The union corresponds to all the elements in both sets, which is represented by coloring both circles:\n"
      ]
    },
    {
      "cell_type": "markdown",
      "metadata": {
        "id": "xWc24zzNdncB"
      },
      "source": [
        "<img src = \"https://cf-courses-data.s3.us.cloud-object-storage.appdomain.cloud/IBMDeveloperSkillsNetwork-PY0101EN-SkillsNetwork/labs/Module%202/images/SetsUnion.png\" width=\"650\" />\n"
      ]
    },
    {
      "cell_type": "markdown",
      "metadata": {
        "id": "qU59rJ6tdqhJ"
      },
      "source": [
        "The union is given by:"
      ]
    },
    {
      "cell_type": "code",
      "metadata": {
        "colab": {
          "base_uri": "https://localhost:8080/"
        },
        "id": "E5juMsmpdsJH",
        "outputId": "73ba02ee-5aa0-4b38-e481-c5b626d4bdcb"
      },
      "source": [
        "# Find the union of two sets\n",
        "\n",
        "album_set1.union(album_set2)"
      ],
      "execution_count": 25,
      "outputs": [
        {
          "output_type": "execute_result",
          "data": {
            "text/plain": [
              "{'AC/DC', 'Back in Black', 'The Dark Side of the Moon', 'Thriller'}"
            ]
          },
          "metadata": {},
          "execution_count": 25
        }
      ]
    },
    {
      "cell_type": "markdown",
      "metadata": {
        "id": "gvgrkxgdd0iO"
      },
      "source": [
        "And you can check if a set is a superset or a subset of another set, respectively, like this"
      ]
    },
    {
      "cell_type": "code",
      "metadata": {
        "colab": {
          "base_uri": "https://localhost:8080/"
        },
        "id": "AdJ9gIlad7W-",
        "outputId": "bed2214b-25fa-4283-9c62-1bcdfd1a1fe7"
      },
      "source": [
        "# Check if superset\n",
        "\n",
        "set(album_set1).issuperset(album_set2)   "
      ],
      "execution_count": 27,
      "outputs": [
        {
          "output_type": "execute_result",
          "data": {
            "text/plain": [
              "False"
            ]
          },
          "metadata": {},
          "execution_count": 27
        }
      ]
    },
    {
      "cell_type": "code",
      "metadata": {
        "colab": {
          "base_uri": "https://localhost:8080/"
        },
        "id": "oWalceP0d_kG",
        "outputId": "32264469-d777-48f1-c1f4-f7ca4a4129f3"
      },
      "source": [
        "# Shec if subset\n",
        "set(album_set1).issubset(album_set2)"
      ],
      "execution_count": 28,
      "outputs": [
        {
          "output_type": "execute_result",
          "data": {
            "text/plain": [
              "False"
            ]
          },
          "metadata": {},
          "execution_count": 28
        }
      ]
    },
    {
      "cell_type": "markdown",
      "metadata": {
        "id": "d0-87xTjeGNe"
      },
      "source": [
        "Here is an example where <code>issubset()</code> and <code>issuperset()</code> return true:\n"
      ]
    },
    {
      "cell_type": "code",
      "metadata": {
        "colab": {
          "base_uri": "https://localhost:8080/"
        },
        "id": "sXAOFMqgeJDg",
        "outputId": "62751809-13d1-4d51-8b83-5417b187ee83"
      },
      "source": [
        "# Check if subset\n",
        "\n",
        "\n",
        "set({\"Back in Black\", \"AC/DC\"}).issubset(album_set1) \n"
      ],
      "execution_count": 29,
      "outputs": [
        {
          "output_type": "execute_result",
          "data": {
            "text/plain": [
              "True"
            ]
          },
          "metadata": {},
          "execution_count": 29
        }
      ]
    },
    {
      "cell_type": "code",
      "metadata": {
        "colab": {
          "base_uri": "https://localhost:8080/"
        },
        "id": "0LCkumZeeORe",
        "outputId": "6a897172-4c62-4f44-ba84-a2393cb41d4a"
      },
      "source": [
        "# Check if superset\n",
        "\n",
        "set(album_set1).issuperset({\"Back in Black\", \"AC/DC\"})"
      ],
      "execution_count": 31,
      "outputs": [
        {
          "output_type": "execute_result",
          "data": {
            "text/plain": [
              "True"
            ]
          },
          "metadata": {},
          "execution_count": 31
        }
      ]
    },
    {
      "cell_type": "code",
      "metadata": {
        "id": "SePANoh7ebA2"
      },
      "source": [
        ""
      ],
      "execution_count": null,
      "outputs": []
    }
  ]
}